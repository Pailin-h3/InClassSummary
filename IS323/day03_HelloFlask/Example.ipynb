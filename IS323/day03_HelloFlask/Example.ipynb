{
 "cells": [
  {
   "cell_type": "code",
   "execution_count": 1,
   "metadata": {},
   "outputs": [
    {
     "name": "stdout",
     "output_type": "stream",
     "text": [
      "Hello World!\n"
     ]
    }
   ],
   "source": [
    "print(\"Hello World!\")"
   ]
  },
  {
   "cell_type": "code",
   "execution_count": 1,
   "metadata": {},
   "outputs": [
    {
     "name": "stdout",
     "output_type": "stream",
     "text": [
      "The Zen of Python, by Tim Peters\n",
      "\n",
      "Beautiful is better than ugly.\n",
      "Explicit is better than implicit.\n",
      "Simple is better than complex.\n",
      "Complex is better than complicated.\n",
      "Flat is better than nested.\n",
      "Sparse is better than dense.\n",
      "Readability counts.\n",
      "Special cases aren't special enough to break the rules.\n",
      "Although practicality beats purity.\n",
      "Errors should never pass silently.\n",
      "Unless explicitly silenced.\n",
      "In the face of ambiguity, refuse the temptation to guess.\n",
      "There should be one-- and preferably only one --obvious way to do it.\n",
      "Although that way may not be obvious at first unless you're Dutch.\n",
      "Now is better than never.\n",
      "Although never is often better than *right* now.\n",
      "If the implementation is hard to explain, it's a bad idea.\n",
      "If the implementation is easy to explain, it may be a good idea.\n",
      "Namespaces are one honking great idea -- let's do more of those!\n"
     ]
    }
   ],
   "source": [
    "import this"
   ]
  },
  {
   "cell_type": "code",
   "execution_count": 6,
   "metadata": {},
   "outputs": [
    {
     "name": "stdout",
     "output_type": "stream",
     "text": [
      "myfile txt\n"
     ]
    }
   ],
   "source": [
    "filename = \"myfile.txt\"\n",
    "basename, __, ext = filename.rpartition('.')\n",
    "print(basename+\" \"+ext)"
   ]
  },
  {
   "cell_type": "code",
   "execution_count": 8,
   "metadata": {},
   "outputs": [
    {
     "data": {
      "text/plain": [
       "['myfile', 'txt']"
      ]
     },
     "execution_count": 8,
     "metadata": {},
     "output_type": "execute_result"
    }
   ],
   "source": [
    "basename = filename.split('.')\n",
    "basename"
   ]
  },
  {
   "cell_type": "markdown",
   "metadata": {},
   "source": [
    "Class and Inheritance"
   ]
  },
  {
   "cell_type": "code",
   "execution_count": 2,
   "metadata": {},
   "outputs": [],
   "source": [
    "class C2:\n",
    "    x = 0\n",
    "    z = 0\n",
    "\n",
    "class C3:\n",
    "    w = 0\n",
    "    z = 3\n",
    "    \n",
    "class C1(C2,C3): # inherite เอา ซ้าย ทับ ขวา\n",
    "    x = 1\n",
    "    y = 1"
   ]
  },
  {
   "cell_type": "code",
   "execution_count": 3,
   "metadata": {},
   "outputs": [
    {
     "data": {
      "text/plain": [
       "0"
      ]
     },
     "execution_count": 3,
     "metadata": {},
     "output_type": "execute_result"
    }
   ],
   "source": [
    "C1.z"
   ]
  },
  {
   "cell_type": "code",
   "execution_count": 7,
   "metadata": {},
   "outputs": [
    {
     "data": {
      "text/plain": [
       "mappingproxy({'__module__': '__main__', 'x': 1, 'y': 1, '__doc__': None})"
      ]
     },
     "execution_count": 7,
     "metadata": {},
     "output_type": "execute_result"
    }
   ],
   "source": [
    "C1.__dict__"
   ]
  },
  {
   "cell_type": "code",
   "execution_count": 24,
   "metadata": {},
   "outputs": [],
   "source": [
    "class Person:\n",
    "    name = ''\n",
    "    age = 0\n",
    "    def __init__(self):\n",
    "        print(\"Person created!!\")\n",
    "    \n",
    "class Education:\n",
    "    degree = 'BBA'\n",
    "    gpa = 4.00\n",
    "    \n",
    "class Employee(Person, Education): # Inheritance Person and Education\n",
    "    salary = 30000\n",
    "    def __init__(self, name, age): # บังคับให้ใส่ตอนสร้าง object\n",
    "        self.name = name\n",
    "        self.age = age\n",
    "    def promote(self): # function in class ใส่ self ทุกรอบ**\n",
    "        self.salary = self.salary*1.05\n",
    "\n",
    "# Create Instance\n",
    "john = Employee('John',25)\n",
    "paul = Employee('Paul',21)\n",
    "\n",
    "john.name = 'John'\n",
    "paul.name = 'Paul'\n",
    "\n",
    "john.jobTitle = 'Manager' # ใส่แบบนี้ได้เลย\n",
    "\n",
    "# เรียกใช้ function ใน class (method) ได้ 2 แบบ\n",
    "john.promote()\n",
    "Employee.promote(john)"
   ]
  },
  {
   "cell_type": "markdown",
   "metadata": {},
   "source": [
    "metod __init__ มีทุกclassขึ้นอยู่กับเราว่าจะเขียนแก้มั้ย และเวลาสร้าง instance จะใช้ __init__ ของclassล่างสุด(class ที่เรียก)เท่านั้น"
   ]
  },
  {
   "cell_type": "code",
   "execution_count": 22,
   "metadata": {},
   "outputs": [
    {
     "name": "stdout",
     "output_type": "stream",
     "text": [
      "John:\n",
      "name: John\n",
      "salary: 33075.0\n",
      "\n",
      "Paul:\n",
      "name: Paul\n",
      "salary: 30000\n"
     ]
    }
   ],
   "source": [
    "print('John:')\n",
    "print('name: {}'.format(john.name))\n",
    "print('salary: {}'.format(john.salary))\n",
    "print()\n",
    "\n",
    "print('Paul:')\n",
    "print('name: {}'.format(paul.name))\n",
    "print('salary: {}'.format(paul.salary))"
   ]
  },
  {
   "cell_type": "markdown",
   "metadata": {},
   "source": [
    "Flask Play Around!!"
   ]
  },
  {
   "cell_type": "code",
   "execution_count": null,
   "metadata": {},
   "outputs": [],
   "source": [
    "from flask import flask"
   ]
  }
 ],
 "metadata": {
  "kernelspec": {
   "display_name": "Python 3",
   "language": "python",
   "name": "python3"
  },
  "language_info": {
   "codemirror_mode": {
    "name": "ipython",
    "version": 3
   },
   "file_extension": ".py",
   "mimetype": "text/x-python",
   "name": "python",
   "nbconvert_exporter": "python",
   "pygments_lexer": "ipython3",
   "version": "3.7.3"
  }
 },
 "nbformat": 4,
 "nbformat_minor": 4
}
