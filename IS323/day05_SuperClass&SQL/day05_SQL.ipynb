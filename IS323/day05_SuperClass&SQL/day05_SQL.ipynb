{
 "cells": [
  {
   "cell_type": "markdown",
   "metadata": {},
   "source": [
    "# Python connect to DataBase"
   ]
  },
  {
   "cell_type": "code",
   "execution_count": 1,
   "metadata": {},
   "outputs": [],
   "source": [
    "import sqlite3"
   ]
  },
  {
   "cell_type": "code",
   "execution_count": 3,
   "metadata": {},
   "outputs": [],
   "source": [
    "conn = sqlite3.connect('exampleSQL.db')"
   ]
  },
  {
   "cell_type": "code",
   "execution_count": 6,
   "metadata": {},
   "outputs": [
    {
     "data": {
      "text/plain": [
       "<sqlite3.Cursor at 0x5335420>"
      ]
     },
     "execution_count": 6,
     "metadata": {},
     "output_type": "execute_result"
    }
   ],
   "source": [
    "c = conn.cursor()\n",
    "\n",
    "# write SQL in \" \"\n",
    "c.execute('''\n",
    "        CREATE TABLE stocks (\n",
    "            date text,\n",
    "            trans text,\n",
    "            symbol text,\n",
    "            qty real,\n",
    "            price real\n",
    "        ) \n",
    "    ''')"
   ]
  },
  {
   "cell_type": "code",
   "execution_count": 7,
   "metadata": {},
   "outputs": [],
   "source": [
    "c.execute(\"INSERT INTO stocks VALUES('2006-01-05','BUY','RHAT',100,35.14)\")\n",
    "        \n",
    "conn.commit() # ยัดที่ทำๆมาใส่ซะ"
   ]
  },
  {
   "cell_type": "code",
   "execution_count": 8,
   "metadata": {},
   "outputs": [],
   "source": [
    "conn.close() # ปิดคร้าบบ"
   ]
  },
  {
   "cell_type": "markdown",
   "metadata": {},
   "source": [
    "DBeaver ไว้เปิดไฟล์ .db ไปโหลดไป"
   ]
  },
  {
   "cell_type": "code",
   "execution_count": 12,
   "metadata": {},
   "outputs": [
    {
     "name": "stdout",
     "output_type": "stream",
     "text": [
      "('2006-01-05', 'BUY', 'RHAT', 100.0, 35.14)\n",
      "('2006-01-06', 'BUY', 'RHAT', 100.0, 35.14)\n",
      "('2006-01-07', 'BUY', 'RHAT', 100.0, 35.14)\n",
      "('2006-01-08', 'BUY', 'RHAT', 100.0, 35.14)\n"
     ]
    }
   ],
   "source": [
    "conn = sqlite3.connect('exampleSQL.db')\n",
    "cursor = conn.cursor()\n",
    "\n",
    "cursor.execute(\"INSERT INTO stocks VALUES('2006-01-06','BUY','RHAT',100,35.14)\")\n",
    "cursor.execute(\"INSERT INTO stocks VALUES('2006-01-07','BUY','RHAT',100,35.14)\")\n",
    "cursor.execute(\"INSERT INTO stocks VALUES('2006-01-08','BUY','RHAT',100,35.14)\")\n",
    "\n",
    "for row in cursor.execute('SELECT * FROM stocks'):\n",
    "    print(row)"
   ]
  },
  {
   "cell_type": "code",
   "execution_count": 13,
   "metadata": {},
   "outputs": [],
   "source": [
    "conn.close()"
   ]
  },
  {
   "cell_type": "code",
   "execution_count": null,
   "metadata": {},
   "outputs": [],
   "source": []
  }
 ],
 "metadata": {
  "kernelspec": {
   "display_name": "Python 3",
   "language": "python",
   "name": "python3"
  },
  "language_info": {
   "codemirror_mode": {
    "name": "ipython",
    "version": 3
   },
   "file_extension": ".py",
   "mimetype": "text/x-python",
   "name": "python",
   "nbconvert_exporter": "python",
   "pygments_lexer": "ipython3",
   "version": "3.7.3"
  }
 },
 "nbformat": 4,
 "nbformat_minor": 4
}
