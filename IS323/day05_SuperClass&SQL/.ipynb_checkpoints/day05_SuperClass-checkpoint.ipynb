{
 "cells": [
  {
   "cell_type": "code",
   "execution_count": 7,
   "metadata": {},
   "outputs": [
    {
     "name": "stdout",
     "output_type": "stream",
     "text": [
      "[self = xxx, MixedName = spam]\n"
     ]
    }
   ],
   "source": [
    "class MixedNames:\n",
    "    data = 'spam'\n",
    "    def __init__(self, value):\n",
    "        self.data = value\n",
    "    def display(self):\n",
    "        print('[self = %s, MixedName = %s]' % (self.data, MixedNames.data))\n",
    "        \n",
    "x = MixedNames('xxx')\n",
    "x.display()"
   ]
  },
  {
   "cell_type": "code",
   "execution_count": 12,
   "metadata": {},
   "outputs": [
    {
     "data": {
      "text/plain": [
       "mappingproxy({'__module__': '__main__',\n",
       "              'data': 'spam',\n",
       "              '__init__': <function __main__.MixedNames.__init__(self, value)>,\n",
       "              'display': <function __main__.MixedNames.display(self)>,\n",
       "              '__dict__': <attribute '__dict__' of 'MixedNames' objects>,\n",
       "              '__weakref__': <attribute '__weakref__' of 'MixedNames' objects>,\n",
       "              '__doc__': None})"
      ]
     },
     "execution_count": 12,
     "metadata": {},
     "output_type": "execute_result"
    }
   ],
   "source": [
    "MixedNames.__dict__"
   ]
  },
  {
   "cell_type": "code",
   "execution_count": 11,
   "metadata": {},
   "outputs": [
    {
     "name": "stdout",
     "output_type": "stream",
     "text": [
      "[self = xxx, MixedName = spam]\n"
     ]
    }
   ],
   "source": [
    "MixedNames.display(x)"
   ]
  },
  {
   "cell_type": "code",
   "execution_count": 22,
   "metadata": {},
   "outputs": [
    {
     "name": "stdout",
     "output_type": "stream",
     "text": [
      "instance call\n"
     ]
    }
   ],
   "source": [
    "class NextClass:\n",
    "    def printer(self,text):\n",
    "        self.message = text\n",
    "        print(self.message)\n",
    "    def printnext(text):\n",
    "        print(text)\n",
    "        \n",
    "x = NextClass()\n",
    "x.printer('instance call')"
   ]
  },
  {
   "cell_type": "code",
   "execution_count": 16,
   "metadata": {},
   "outputs": [
    {
     "data": {
      "text/plain": [
       "'instance call'"
      ]
     },
     "execution_count": 16,
     "metadata": {},
     "output_type": "execute_result"
    }
   ],
   "source": [
    "x.message"
   ]
  },
  {
   "cell_type": "code",
   "execution_count": 17,
   "metadata": {},
   "outputs": [
    {
     "name": "stdout",
     "output_type": "stream",
     "text": [
      "class call\n"
     ]
    }
   ],
   "source": [
    "NextClass.printer(x,'class call')"
   ]
  },
  {
   "cell_type": "code",
   "execution_count": 24,
   "metadata": {},
   "outputs": [
    {
     "name": "stdout",
     "output_type": "stream",
     "text": [
      "call like this dai wei graee\n"
     ]
    }
   ],
   "source": [
    "NextClass.printnext('call like this dai wei graee')"
   ]
  },
  {
   "cell_type": "code",
   "execution_count": 34,
   "metadata": {},
   "outputs": [
    {
     "name": "stdout",
     "output_type": "stream",
     "text": [
      "[input1 = 1, input2 = 2]\n",
      "[input1 = 1]\n",
      "[input1 = 1, input2 = 2]\n"
     ]
    }
   ],
   "source": [
    "class Super:\n",
    "    def __init__(self, x):\n",
    "        self.input1 = x\n",
    "    def display(self):\n",
    "        print('[input1 = %d]'%(self.input1))\n",
    "    \n",
    "class Sub(Super):\n",
    "    def __init__(self, x, y):\n",
    "        Super.__init__(self, x)\n",
    "        self.input2 = y\n",
    "        # Do something\n",
    "    def display(self):\n",
    "        print('[input1 = %d, input2 = %d]'%(self.input1, self.input2))\n",
    "        \n",
    "x = Sub(1,2)\n",
    "x.display()\n",
    "Super.display(x)\n",
    "Sub.display(x)"
   ]
  },
  {
   "cell_type": "markdown",
   "metadata": {},
   "source": [
    "# Types of SubClass"
   ]
  },
  {
   "cell_type": "code",
   "execution_count": 36,
   "metadata": {},
   "outputs": [],
   "source": [
    "class School:\n",
    "    def register(self):\n",
    "        pass #Walkin Register\n",
    "    def organiseClass(self):\n",
    "        pass\n",
    "\n",
    "class OngsaPrimarySchool(School): #inheriter\n",
    "    pass\n",
    "\n",
    "class PailinTutor(School): #Replacer\n",
    "    def register(self):\n",
    "        pass #Online Register\n",
    "    \n",
    "class JobsCodingSchool(School): #Extender\n",
    "    def register(self, registerType):\n",
    "        if registerType == 'walkin':\n",
    "            School.register\n",
    "        else:\n",
    "            pass #Online Register"
   ]
  },
  {
   "cell_type": "markdown",
   "metadata": {},
   "source": [
    "# Abstract Super Class\n",
    "Class เขียนไม่เสร็จ"
   ]
  },
  {
   "cell_type": "code",
   "execution_count": 43,
   "metadata": {},
   "outputs": [],
   "source": [
    "class Super:\n",
    "    def method(self, x):\n",
    "        self.input = x\n",
    "    def delegate(self):\n",
    "        raise NotImplementedError('ไปเขียนมาซะ')  # จะขึ้นเป็น error\n",
    "    def action(self):\n",
    "        raise NotImplementedError('action must be denied!!') \n",
    "        \n",
    "class Sub(Super):\n",
    "    pass"
   ]
  },
  {
   "cell_type": "code",
   "execution_count": 44,
   "metadata": {},
   "outputs": [
    {
     "ename": "NotImplementedError",
     "evalue": "ไปเขียนมาซะ",
     "output_type": "error",
     "traceback": [
      "\u001b[1;31m---------------------------------------------------------------------------\u001b[0m",
      "\u001b[1;31mNotImplementedError\u001b[0m                       Traceback (most recent call last)",
      "\u001b[1;32m<ipython-input-44-4428bdba39ee>\u001b[0m in \u001b[0;36m<module>\u001b[1;34m\u001b[0m\n\u001b[0;32m      1\u001b[0m \u001b[0mx\u001b[0m \u001b[1;33m=\u001b[0m \u001b[0mSub\u001b[0m\u001b[1;33m(\u001b[0m\u001b[1;33m)\u001b[0m\u001b[1;33m\u001b[0m\u001b[1;33m\u001b[0m\u001b[0m\n\u001b[0;32m      2\u001b[0m \u001b[0mx\u001b[0m\u001b[1;33m.\u001b[0m\u001b[0mmethod\u001b[0m\u001b[1;33m(\u001b[0m\u001b[1;36m1\u001b[0m\u001b[1;33m)\u001b[0m\u001b[1;33m\u001b[0m\u001b[1;33m\u001b[0m\u001b[0m\n\u001b[1;32m----> 3\u001b[1;33m \u001b[0mx\u001b[0m\u001b[1;33m.\u001b[0m\u001b[0mdelegate\u001b[0m\u001b[1;33m(\u001b[0m\u001b[1;33m)\u001b[0m\u001b[1;33m\u001b[0m\u001b[1;33m\u001b[0m\u001b[0m\n\u001b[0m",
      "\u001b[1;32m<ipython-input-43-eb94fc2e4295>\u001b[0m in \u001b[0;36mdelegate\u001b[1;34m(self)\u001b[0m\n\u001b[0;32m      3\u001b[0m         \u001b[0mself\u001b[0m\u001b[1;33m.\u001b[0m\u001b[0minput\u001b[0m \u001b[1;33m=\u001b[0m \u001b[0mx\u001b[0m\u001b[1;33m\u001b[0m\u001b[1;33m\u001b[0m\u001b[0m\n\u001b[0;32m      4\u001b[0m     \u001b[1;32mdef\u001b[0m \u001b[0mdelegate\u001b[0m\u001b[1;33m(\u001b[0m\u001b[0mself\u001b[0m\u001b[1;33m)\u001b[0m\u001b[1;33m:\u001b[0m\u001b[1;33m\u001b[0m\u001b[1;33m\u001b[0m\u001b[0m\n\u001b[1;32m----> 5\u001b[1;33m         \u001b[1;32mraise\u001b[0m \u001b[0mNotImplementedError\u001b[0m\u001b[1;33m(\u001b[0m\u001b[1;34m'ไปเขียนมาซะ'\u001b[0m\u001b[1;33m)\u001b[0m\u001b[1;33m\u001b[0m\u001b[1;33m\u001b[0m\u001b[0m\n\u001b[0m\u001b[0;32m      6\u001b[0m     \u001b[1;32mdef\u001b[0m \u001b[0maction\u001b[0m\u001b[1;33m(\u001b[0m\u001b[0mself\u001b[0m\u001b[1;33m)\u001b[0m\u001b[1;33m:\u001b[0m\u001b[1;33m\u001b[0m\u001b[1;33m\u001b[0m\u001b[0m\n\u001b[0;32m      7\u001b[0m         \u001b[1;32mraise\u001b[0m \u001b[0mNotImplementedError\u001b[0m\u001b[1;33m(\u001b[0m\u001b[1;34m'action must be denied!!'\u001b[0m\u001b[1;33m)\u001b[0m \u001b[1;31m# จะขึ้นเป็น error\u001b[0m\u001b[1;33m\u001b[0m\u001b[1;33m\u001b[0m\u001b[0m\n",
      "\u001b[1;31mNotImplementedError\u001b[0m: ไปเขียนมาซะ"
     ]
    }
   ],
   "source": [
    "x = Sub()\n",
    "x.method(1)\n",
    "x.delegate()"
   ]
  },
  {
   "cell_type": "markdown",
   "metadata": {},
   "source": [
    "ตัวอย่างโรงเรียนสุขสันต์"
   ]
  },
  {
   "cell_type": "code",
   "execution_count": 47,
   "metadata": {},
   "outputs": [],
   "source": [
    "class School:\n",
    "    def register(self):\n",
    "        pass #Walkin Register\n",
    "    def organiseClass(self):\n",
    "        pass\n",
    "# this line show that School is Abstract Super Class\n",
    "    def awardDegree(self):\n",
    "        raise NotImplementedError('action must be denied!!')\n",
    "\n",
    "class OngsaPrimarySchool(School): #inheriter\n",
    "    pass\n",
    "\n",
    "class PailinTutor(School): #Replacer\n",
    "    def register(self):\n",
    "        pass #Online Register\n",
    "# OverWrite the Abstract Method\n",
    "    def awardDegree(self):\n",
    "        print('No Awared')\n",
    "    \n",
    "class JobsCodingSchool(School): #Extender\n",
    "    def register(self, registerType):\n",
    "        if registerType == 'walkin':\n",
    "            School.register\n",
    "        else:\n",
    "            pass #Online Register"
   ]
  },
  {
   "cell_type": "code",
   "execution_count": 48,
   "metadata": {},
   "outputs": [
    {
     "name": "stdout",
     "output_type": "stream",
     "text": [
      "No Awared\n"
     ]
    }
   ],
   "source": [
    "st1 = PailinTutor()\n",
    "st1.awardDegree()\n",
    "# เขียนทับแล้วจะรันผ่าน"
   ]
  },
  {
   "cell_type": "code",
   "execution_count": 49,
   "metadata": {},
   "outputs": [
    {
     "ename": "NotImplementedError",
     "evalue": "action must be denied!!",
     "output_type": "error",
     "traceback": [
      "\u001b[1;31m---------------------------------------------------------------------------\u001b[0m",
      "\u001b[1;31mNotImplementedError\u001b[0m                       Traceback (most recent call last)",
      "\u001b[1;32m<ipython-input-49-d1c96079cb5a>\u001b[0m in \u001b[0;36m<module>\u001b[1;34m\u001b[0m\n\u001b[0;32m      1\u001b[0m \u001b[0mst2\u001b[0m \u001b[1;33m=\u001b[0m \u001b[0mOngsaPrimarySchool\u001b[0m\u001b[1;33m(\u001b[0m\u001b[1;33m)\u001b[0m\u001b[1;33m\u001b[0m\u001b[1;33m\u001b[0m\u001b[0m\n\u001b[1;32m----> 2\u001b[1;33m \u001b[0mst2\u001b[0m\u001b[1;33m.\u001b[0m\u001b[0mawardDegree\u001b[0m\u001b[1;33m(\u001b[0m\u001b[1;33m)\u001b[0m\u001b[1;33m\u001b[0m\u001b[1;33m\u001b[0m\u001b[0m\n\u001b[0m\u001b[0;32m      3\u001b[0m \u001b[1;31m# ไม่เขียนทับจะไม่ผ่าน\u001b[0m\u001b[1;33m\u001b[0m\u001b[1;33m\u001b[0m\u001b[1;33m\u001b[0m\u001b[0m\n",
      "\u001b[1;32m<ipython-input-47-05e483d16972>\u001b[0m in \u001b[0;36mawardDegree\u001b[1;34m(self)\u001b[0m\n\u001b[0;32m      6\u001b[0m \u001b[1;31m# this line show that School is Abstract Super Class\u001b[0m\u001b[1;33m\u001b[0m\u001b[1;33m\u001b[0m\u001b[1;33m\u001b[0m\u001b[0m\n\u001b[0;32m      7\u001b[0m     \u001b[1;32mdef\u001b[0m \u001b[0mawardDegree\u001b[0m\u001b[1;33m(\u001b[0m\u001b[0mself\u001b[0m\u001b[1;33m)\u001b[0m\u001b[1;33m:\u001b[0m\u001b[1;33m\u001b[0m\u001b[1;33m\u001b[0m\u001b[0m\n\u001b[1;32m----> 8\u001b[1;33m         \u001b[1;32mraise\u001b[0m \u001b[0mNotImplementedError\u001b[0m\u001b[1;33m(\u001b[0m\u001b[1;34m'action must be denied!!'\u001b[0m\u001b[1;33m)\u001b[0m\u001b[1;33m\u001b[0m\u001b[1;33m\u001b[0m\u001b[0m\n\u001b[0m\u001b[0;32m      9\u001b[0m \u001b[1;33m\u001b[0m\u001b[0m\n\u001b[0;32m     10\u001b[0m \u001b[1;32mclass\u001b[0m \u001b[0mOngsaPrimarySchool\u001b[0m\u001b[1;33m(\u001b[0m\u001b[0mSchool\u001b[0m\u001b[1;33m)\u001b[0m\u001b[1;33m:\u001b[0m \u001b[1;31m#inheriter\u001b[0m\u001b[1;33m\u001b[0m\u001b[1;33m\u001b[0m\u001b[0m\n",
      "\u001b[1;31mNotImplementedError\u001b[0m: action must be denied!!"
     ]
    }
   ],
   "source": [
    "st2 = OngsaPrimarySchool()\n",
    "st2.awardDegree()\n",
    "# ไม่เขียนทับจะไม่ผ่าน"
   ]
  },
  {
   "cell_type": "code",
   "execution_count": 53,
   "metadata": {},
   "outputs": [
    {
     "ename": "AttributeError",
     "evalue": "type object 'School' has no attribute '__len__'",
     "output_type": "error",
     "traceback": [
      "\u001b[1;31m---------------------------------------------------------------------------\u001b[0m",
      "\u001b[1;31mAttributeError\u001b[0m                            Traceback (most recent call last)",
      "\u001b[1;32m<ipython-input-53-a74e4f2ae7e9>\u001b[0m in \u001b[0;36m<module>\u001b[1;34m\u001b[0m\n\u001b[1;32m----> 1\u001b[1;33m \u001b[0mSchool\u001b[0m\u001b[1;33m.\u001b[0m\u001b[0m__len__\u001b[0m\u001b[1;33m(\u001b[0m\u001b[1;33m)\u001b[0m\u001b[1;33m\u001b[0m\u001b[1;33m\u001b[0m\u001b[0m\n\u001b[0m",
      "\u001b[1;31mAttributeError\u001b[0m: type object 'School' has no attribute '__len__'"
     ]
    }
   ],
   "source": [
    "School.__len__()"
   ]
  }
 ],
 "metadata": {
  "kernelspec": {
   "display_name": "Python 3",
   "language": "python",
   "name": "python3"
  },
  "language_info": {
   "codemirror_mode": {
    "name": "ipython",
    "version": 3
   },
   "file_extension": ".py",
   "mimetype": "text/x-python",
   "name": "python",
   "nbconvert_exporter": "python",
   "pygments_lexer": "ipython3",
   "version": "3.7.7"
  }
 },
 "nbformat": 4,
 "nbformat_minor": 4
}
