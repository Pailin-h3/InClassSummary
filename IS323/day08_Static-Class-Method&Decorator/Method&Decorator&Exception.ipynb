{
 "cells": [
  {
   "cell_type": "markdown",
   "metadata": {},
   "source": [
    "# Class/Static Methods\n",
    "\n",
    "- Methods = Function in class\n",
    "- Instance Methods = Method that include self\n",
    "- Class Methods = Method that include cls\n",
    "- Static Methods = Method that not include anything"
   ]
  },
  {
   "cell_type": "code",
   "execution_count": 1,
   "metadata": {},
   "outputs": [],
   "source": [
    "class Spam:\n",
    "    numInstance = 0\n",
    "    \n",
    "    def __init__(self):\n",
    "        Spam.numInstance = Spam.numInstance +1\n",
    "    def printNumInstance():    # Static Method => NO SELF        \n",
    "        print('Number of instance created: %d'% Spam.numInstance)"
   ]
  },
  {
   "cell_type": "code",
   "execution_count": 2,
   "metadata": {},
   "outputs": [
    {
     "name": "stdout",
     "output_type": "stream",
     "text": [
      "Number of instance created: 3\n"
     ]
    }
   ],
   "source": [
    "a = Spam()\n",
    "b = Spam()\n",
    "c = Spam()\n",
    "\n",
    "a.numInstance+=1\n",
    "\n",
    "Spam.printNumInstance()"
   ]
  },
  {
   "cell_type": "code",
   "execution_count": 3,
   "metadata": {},
   "outputs": [
    {
     "name": "stdout",
     "output_type": "stream",
     "text": [
      "Number of instance created: 3\n"
     ]
    },
    {
     "data": {
      "text/plain": [
       "4"
      ]
     },
     "execution_count": 3,
     "metadata": {},
     "output_type": "execute_result"
    }
   ],
   "source": [
    "Spam.printNumInstance()\n",
    "a.numInstance"
   ]
  },
  {
   "cell_type": "code",
   "execution_count": 4,
   "metadata": {},
   "outputs": [],
   "source": [
    "class Methods:\n",
    "    def imeth(self, x):    # Class Method\n",
    "        print([self, x])\n",
    "    def smeth(x):    # Static Method\n",
    "        print([x])\n",
    "    def cmeth(cls, x):    # เรียก class ของ obj นั้นๆ => จัดการ data ของ class ได้\n",
    "        print([cls, x])\n",
    "        \n",
    "    # decorate บอกว่าใครเป็น class, statice\n",
    "    smeth = staticmethod(smeth)\n",
    "    cmeth = classmethod(cmeth)\n",
    "    \n",
    "\n",
    "m = Methods()"
   ]
  },
  {
   "cell_type": "code",
   "execution_count": 5,
   "metadata": {},
   "outputs": [
    {
     "data": {
      "text/plain": [
       "mappingproxy({'__module__': '__main__',\n",
       "              'imeth': <function __main__.Methods.imeth(self, x)>,\n",
       "              'smeth': <staticmethod at 0x1f5bdf91128>,\n",
       "              'cmeth': <classmethod at 0x1f5bdf91208>,\n",
       "              '__dict__': <attribute '__dict__' of 'Methods' objects>,\n",
       "              '__weakref__': <attribute '__weakref__' of 'Methods' objects>,\n",
       "              '__doc__': None})"
      ]
     },
     "execution_count": 5,
     "metadata": {},
     "output_type": "execute_result"
    }
   ],
   "source": [
    "Methods.__dict__"
   ]
  },
  {
   "cell_type": "code",
   "execution_count": 6,
   "metadata": {},
   "outputs": [
    {
     "name": "stdout",
     "output_type": "stream",
     "text": [
      "[<class '__main__.Methods'>, 3]\n"
     ]
    }
   ],
   "source": [
    "m.cmeth(3)"
   ]
  },
  {
   "cell_type": "code",
   "execution_count": 7,
   "metadata": {},
   "outputs": [
    {
     "name": "stdout",
     "output_type": "stream",
     "text": [
      "[<class '__main__.Methods'>, 3]\n"
     ]
    }
   ],
   "source": [
    "Methods.cmeth(3)"
   ]
  },
  {
   "cell_type": "markdown",
   "metadata": {},
   "source": [
    "# Decorator\n",
    "\n",
    "- Function Decorator\n",
    "- Class Decorator"
   ]
  },
  {
   "cell_type": "code",
   "execution_count": 10,
   "metadata": {},
   "outputs": [
    {
     "data": {
      "text/plain": [
       "mappingproxy({'__module__': '__main__',\n",
       "              'smeth': <staticmethod at 0x1f5bdf9dda0>,\n",
       "              'cmeth': <classmethod at 0x1f5bdf9def0>,\n",
       "              'name': <property at 0x1f5bdf994a8>,\n",
       "              '__dict__': <attribute '__dict__' of 'C' objects>,\n",
       "              '__weakref__': <attribute '__weakref__' of 'C' objects>,\n",
       "              '__doc__': None})"
      ]
     },
     "execution_count": 10,
     "metadata": {},
     "output_type": "execute_result"
    }
   ],
   "source": [
    "class C:\n",
    "    @staticmethod    # function decorator\n",
    "    def smeth(x):\n",
    "        print(x)\n",
    "    @classmethod\n",
    "    def cmeth(cls,x):\n",
    "        print([cls,x])\n",
    "    @property\n",
    "    def name(self):\n",
    "        return 'Bob' + ' ' + self.__class__.__name__\n",
    "    \n",
    "o = C()\n",
    "C.__dict__"
   ]
  },
  {
   "cell_type": "code",
   "execution_count": 11,
   "metadata": {},
   "outputs": [
    {
     "data": {
      "text/plain": [
       "'Bob C'"
      ]
     },
     "execution_count": 11,
     "metadata": {},
     "output_type": "execute_result"
    }
   ],
   "source": [
    "o.name"
   ]
  },
  {
   "cell_type": "code",
   "execution_count": 13,
   "metadata": {},
   "outputs": [
    {
     "name": "stdout",
     "output_type": "stream",
     "text": [
      "call 1 to spam\n",
      "6\n",
      "call 2 to spam\n",
      "abc\n"
     ]
    }
   ],
   "source": [
    "class tracer:\n",
    "    def __init__(self, func):\n",
    "        self.calls = 0\n",
    "        self.func = func\n",
    "    def __call__(self, *args):\n",
    "        self.calls += 1\n",
    "        print('call %s to %s' % (self.calls, self.func.__name__))\n",
    "        return self.func(*args)\n",
    "    \n",
    "@tracer\n",
    "def spam(a,b,c):\n",
    "    return a+b+c\n",
    "    \n",
    "print(spam(1,2,3))\n",
    "print(spam('a','b','c'))"
   ]
  },
  {
   "cell_type": "code",
   "execution_count": 14,
   "metadata": {},
   "outputs": [],
   "source": [
    "class OurTracer:\n",
    "    def __init__(self, func):\n",
    "        self.calls = 0\n",
    "        self.func = func\n",
    "    def __call__(self, *args):\n",
    "        print(*args)\n",
    "        return self.func(*args)\n",
    "    \n",
    "@OurTracer\n",
    "def printSomething(x, y, z):\n",
    "    return x+y+z"
   ]
  },
  {
   "cell_type": "code",
   "execution_count": 15,
   "metadata": {},
   "outputs": [
    {
     "data": {
      "text/plain": [
       "<__main__.OurTracer at 0x1f5bdf3dac8>"
      ]
     },
     "execution_count": 15,
     "metadata": {},
     "output_type": "execute_result"
    }
   ],
   "source": [
    "printSomething"
   ]
  },
  {
   "cell_type": "code",
   "execution_count": 16,
   "metadata": {},
   "outputs": [
    {
     "name": "stdout",
     "output_type": "stream",
     "text": [
      "1 2 3\n"
     ]
    },
    {
     "data": {
      "text/plain": [
       "6"
      ]
     },
     "execution_count": 16,
     "metadata": {},
     "output_type": "execute_result"
    }
   ],
   "source": [
    "printSomething(1,2,3)"
   ]
  },
  {
   "cell_type": "code",
   "execution_count": 21,
   "metadata": {},
   "outputs": [
    {
     "name": "stdout",
     "output_type": "stream",
     "text": [
      "Logging Data (1, 2, 3)\n"
     ]
    },
    {
     "data": {
      "text/plain": [
       "'success'"
      ]
     },
     "execution_count": 21,
     "metadata": {},
     "output_type": "execute_result"
    }
   ],
   "source": [
    "class Logger:\n",
    "    def __init__(self, func):\n",
    "        self.calls = 0\n",
    "        self.func = func\n",
    "    def __call__(self, *args):\n",
    "        print('Logging Data {}'.format(args))\n",
    "        return self.func(*args)\n",
    "    \n",
    "@Logger\n",
    "def saveToData(x, y, z):\n",
    "    return 'success'\n",
    "\n",
    "# @Logger มีค่าเท่า saveToData = Logger(saveToData)\n",
    "\n",
    "saveToData(1,2,3)"
   ]
  },
  {
   "cell_type": "markdown",
   "metadata": {},
   "source": [
    "- ลำดับการทำงาน\n",
    "    - @Logger เรียก __init__ ทำให้ self.func = saveToData\n",
    "    - saveToData(1,2,3) เรียก __call__\n",
    "    - __call__ เรียก self.func (ที่เป็น saveToData แล้ว)"
   ]
  },
  {
   "cell_type": "code",
   "execution_count": 34,
   "metadata": {},
   "outputs": [
    {
     "name": "stdout",
     "output_type": "stream",
     "text": [
      "Logging Data ('a', 'b', 'c')\n"
     ]
    },
    {
     "data": {
      "text/plain": [
       "'Saved!!'"
      ]
     },
     "execution_count": 34,
     "metadata": {},
     "output_type": "execute_result"
    }
   ],
   "source": [
    "@Logger\n",
    "def saveData(x, y, z):\n",
    "    return 'Saved!!'\n",
    "\n",
    "saveData('a','b','c')"
   ]
  },
  {
   "cell_type": "code",
   "execution_count": 35,
   "metadata": {},
   "outputs": [],
   "source": [
    "save = saveData"
   ]
  },
  {
   "cell_type": "code",
   "execution_count": 36,
   "metadata": {},
   "outputs": [
    {
     "name": "stdout",
     "output_type": "stream",
     "text": [
      "Logging Data ('x', 'y', 'z')\n"
     ]
    },
    {
     "data": {
      "text/plain": [
       "'Saved!!'"
      ]
     },
     "execution_count": 36,
     "metadata": {},
     "output_type": "execute_result"
    }
   ],
   "source": [
    "save('x','y','z')"
   ]
  },
  {
   "cell_type": "code",
   "execution_count": 37,
   "metadata": {},
   "outputs": [
    {
     "name": "stdout",
     "output_type": "stream",
     "text": [
      "Logging Data (8, 9, 10)\n"
     ]
    },
    {
     "data": {
      "text/plain": [
       "'success'"
      ]
     },
     "execution_count": 37,
     "metadata": {},
     "output_type": "execute_result"
    }
   ],
   "source": [
    "saveToData(8,9,10)"
   ]
  },
  {
   "cell_type": "markdown",
   "metadata": {},
   "source": [
    "# Exception\n",
    "- try/except\n",
    "- try/finally\n",
    "- raise\n",
    "- assert\n",
    "- with/as"
   ]
  },
  {
   "cell_type": "code",
   "execution_count": 50,
   "metadata": {},
   "outputs": [
    {
     "name": "stdout",
     "output_type": "stream",
     "text": [
      "Error <class 'TypeError'>\n",
      "\n",
      "Function Checked\n",
      "Cleaning Up\n"
     ]
    }
   ],
   "source": [
    "def myAction(x,y,z):\n",
    "    print(x + y + z)\n",
    "\n",
    "try:\n",
    "    myAction(1,2,'3')\n",
    "    \n",
    "except NameError:\n",
    "    print(\"NameError\")\n",
    "except KeyError as k:\n",
    "    print(\"KeyError %s\"% k)\n",
    "except (AttributeError, TypeError, SyntaxError) as others:\n",
    "    print(\"Error %s\"% others.__class__)\n",
    "else:    # NO Except\n",
    "    print('No Error Raised.')\n",
    "    print(\"Do AnyThing\")\n",
    "finally:    # Always Perform\n",
    "    print()\n",
    "    print(\"Function Checked\")\n",
    "    print(\"Cleaning Up\")"
   ]
  },
  {
   "cell_type": "code",
   "execution_count": 56,
   "metadata": {},
   "outputs": [
    {
     "name": "stdout",
     "output_type": "stream",
     "text": [
      "NameError y must be int\n",
      "\n",
      "Function Checked\n",
      "Cleaning Up\n"
     ]
    }
   ],
   "source": [
    "def myAction(x,y,z):\n",
    "    if not isinstance(y, int):\n",
    "        raise NameError('y must be int')\n",
    "    print(x + y + z)\n",
    "\n",
    "try:\n",
    "    myAction(1,'2',3)\n",
    "    \n",
    "except NameError as n:\n",
    "    print(\"NameError %s\"% n)\n",
    "except KeyError as k:\n",
    "    print(\"KeyError %s\"% k)\n",
    "except (AttributeError, TypeError, SyntaxError) as others:\n",
    "    print(\"Error %s\"% others.__class__)\n",
    "else:    # NO Except\n",
    "    print('No Error Raised.')\n",
    "    print(\"Do AnyThing\")\n",
    "finally:    # Always Perform\n",
    "    print()\n",
    "    print(\"Function Checked\")\n",
    "    print(\"Cleaning Up\")"
   ]
  },
  {
   "cell_type": "code",
   "execution_count": 57,
   "metadata": {},
   "outputs": [
    {
     "ename": "NameError",
     "evalue": "y must be int",
     "output_type": "error",
     "traceback": [
      "\u001b[1;31m---------------------------------------------------------------------------\u001b[0m",
      "\u001b[1;31mNameError\u001b[0m                                 Traceback (most recent call last)",
      "\u001b[1;32m<ipython-input-57-a8fa040b2759>\u001b[0m in \u001b[0;36m<module>\u001b[1;34m\u001b[0m\n\u001b[0;32m      4\u001b[0m     \u001b[0mprint\u001b[0m\u001b[1;33m(\u001b[0m\u001b[0mx\u001b[0m \u001b[1;33m+\u001b[0m \u001b[0my\u001b[0m \u001b[1;33m+\u001b[0m \u001b[0mz\u001b[0m\u001b[1;33m)\u001b[0m\u001b[1;33m\u001b[0m\u001b[1;33m\u001b[0m\u001b[0m\n\u001b[0;32m      5\u001b[0m \u001b[1;33m\u001b[0m\u001b[0m\n\u001b[1;32m----> 6\u001b[1;33m \u001b[0mmyAction\u001b[0m\u001b[1;33m(\u001b[0m\u001b[1;36m1\u001b[0m\u001b[1;33m,\u001b[0m\u001b[1;34m'2'\u001b[0m\u001b[1;33m,\u001b[0m\u001b[1;36m3\u001b[0m\u001b[1;33m)\u001b[0m\u001b[1;33m\u001b[0m\u001b[1;33m\u001b[0m\u001b[0m\n\u001b[0m",
      "\u001b[1;32m<ipython-input-57-a8fa040b2759>\u001b[0m in \u001b[0;36mmyAction\u001b[1;34m(x, y, z)\u001b[0m\n\u001b[0;32m      1\u001b[0m \u001b[1;32mdef\u001b[0m \u001b[0mmyAction\u001b[0m\u001b[1;33m(\u001b[0m\u001b[0mx\u001b[0m\u001b[1;33m,\u001b[0m\u001b[0my\u001b[0m\u001b[1;33m,\u001b[0m\u001b[0mz\u001b[0m\u001b[1;33m)\u001b[0m\u001b[1;33m:\u001b[0m\u001b[1;33m\u001b[0m\u001b[1;33m\u001b[0m\u001b[0m\n\u001b[0;32m      2\u001b[0m     \u001b[1;32mif\u001b[0m \u001b[1;32mnot\u001b[0m \u001b[0misinstance\u001b[0m\u001b[1;33m(\u001b[0m\u001b[0my\u001b[0m\u001b[1;33m,\u001b[0m \u001b[0mint\u001b[0m\u001b[1;33m)\u001b[0m\u001b[1;33m:\u001b[0m\u001b[1;33m\u001b[0m\u001b[1;33m\u001b[0m\u001b[0m\n\u001b[1;32m----> 3\u001b[1;33m         \u001b[1;32mraise\u001b[0m \u001b[0mNameError\u001b[0m\u001b[1;33m(\u001b[0m\u001b[1;34m'y must be int'\u001b[0m\u001b[1;33m)\u001b[0m\u001b[1;33m\u001b[0m\u001b[1;33m\u001b[0m\u001b[0m\n\u001b[0m\u001b[0;32m      4\u001b[0m     \u001b[0mprint\u001b[0m\u001b[1;33m(\u001b[0m\u001b[0mx\u001b[0m \u001b[1;33m+\u001b[0m \u001b[0my\u001b[0m \u001b[1;33m+\u001b[0m \u001b[0mz\u001b[0m\u001b[1;33m)\u001b[0m\u001b[1;33m\u001b[0m\u001b[1;33m\u001b[0m\u001b[0m\n\u001b[0;32m      5\u001b[0m \u001b[1;33m\u001b[0m\u001b[0m\n",
      "\u001b[1;31mNameError\u001b[0m: y must be int"
     ]
    }
   ],
   "source": [
    "def myAction(x,y,z):\n",
    "    if not isinstance(y, int):\n",
    "        raise NameError('y must be int')\n",
    "    print(x + y + z)\n",
    "    \n",
    "myAction(1,'2',3)"
   ]
  },
  {
   "cell_type": "code",
   "execution_count": null,
   "metadata": {},
   "outputs": [],
   "source": []
  }
 ],
 "metadata": {
  "kernelspec": {
   "display_name": "Python 3",
   "language": "python",
   "name": "python3"
  },
  "language_info": {
   "codemirror_mode": {
    "name": "ipython",
    "version": 3
   },
   "file_extension": ".py",
   "mimetype": "text/x-python",
   "name": "python",
   "nbconvert_exporter": "python",
   "pygments_lexer": "ipython3",
   "version": "3.7.3"
  }
 },
 "nbformat": 4,
 "nbformat_minor": 4
}
