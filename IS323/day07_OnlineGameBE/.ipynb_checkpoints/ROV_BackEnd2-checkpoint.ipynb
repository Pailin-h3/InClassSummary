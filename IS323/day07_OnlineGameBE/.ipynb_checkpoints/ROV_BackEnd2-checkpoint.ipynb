{
 "cells": [
  {
   "cell_type": "code",
   "execution_count": 2,
   "metadata": {},
   "outputs": [],
   "source": [
    "import sqlalchemy\n",
    "from sqlalchemy import create_engine, Column, Integer, String, Sequence\n",
    "from sqlalchemy.ext.declarative import declarative_base\n",
    "from sqlalchemy.orm import sessionmaker"
   ]
  },
  {
   "cell_type": "code",
   "execution_count": null,
   "metadata": {},
   "outputs": [],
   "source": [
    "Base = declarative_base()"
   ]
  },
  {
   "cell_type": "code",
   "execution_count": 1,
   "metadata": {},
   "outputs": [],
   "source": [
    "class User:\n",
    "    heros = []    # Hero\n",
    "    skins = []    # Skin\n",
    "    rank = ''\n",
    "    cash = 0\n",
    "    coin = 0\n",
    "    match_history = []    # Match\n",
    "    friends = []    # User\n",
    "    \n",
    "    def __init__(self, name, server):\n",
    "        self.name = name\n",
    "        self.server = server\n",
    "        server.online_users.append(self)\n",
    "    def __repr__(self):\n",
    "        return 'User: %s\\\n",
    "                rank: %s\\\n",
    "                cash: %d\\\n",
    "                coin: %d' % (self.name,\n",
    "                            self.rank,\n",
    "                            self.cash,\n",
    "                            self.coin)    # Can't loop Heros name\n",
    "    def rankUP(self):\n",
    "        pass \n",
    "    def rankDOWN(self):\n",
    "        pass \n",
    "    def insert_cash(self, m):\n",
    "        self.cash = self.cash + m\n",
    "        self.server.wallet = self.server.wallet + m\n",
    "    def buyHero(self, c, hero):\n",
    "        if(c == 'cash'):\n",
    "            if(self.cash >= hero.cash_price):\n",
    "                self.cash = self.cash - hero.cash_price\n",
    "                self.heros.append(hero)\n",
    "            else:\n",
    "                print(\"Your cash not enough\")\n",
    "        else:\n",
    "            if(self.coin >= hero.coin_price):\n",
    "                self.coin = self.coin - hero.coin_price\n",
    "                self.heros.append(hero)\n",
    "            else:\n",
    "                print(\"Your coin not enough\")\n",
    "\n",
    "                \n",
    "class Hero:\n",
    "    skins = []    # Skin\n",
    "    skills = []    # Skill\n",
    "    healthPoint = 0\n",
    "    manaPoint = 0\n",
    "    damage = 0\n",
    "    cash_price = 0\n",
    "    coin_price = 0\n",
    "    \n",
    "    def __init__(self, name, basic_skin, cash_price=0, coin_price=0, hp=300, damage=20):\n",
    "        self.name = name\n",
    "        self.skins.append(basic_skin)\n",
    "        self.cash_price = cash_price\n",
    "        self.coin_price = coin_price\n",
    "        self.healthPoint = hp\n",
    "        self.damage = damage\n",
    "    def buySkin(self, buyer, skin):\n",
    "        if(skin in self.skins):\n",
    "            if(self in buyer.heros):\n",
    "                if(buyer.cash >= skin.price):\n",
    "                    buyer.cash = buyer.cash - skin.price\n",
    "                    self.skins.append(skin)\n",
    "                else:\n",
    "                    print(\"cash not enough\")\n",
    "            else:\n",
    "                print(\"Buy Hero First\")\n",
    "        else:\n",
    "            print(\"%s is not skin of %s\"% (skin.pic, self.name))\n",
    "    \n",
    "    \n",
    "class Skin:\n",
    "    pic = \"SKIN SHOWN\"\n",
    "    price = 0\n",
    "    \n",
    "    def __init__(self, pic, price=0):\n",
    "        self.pic = pic\n",
    "        self.price = price\n",
    "\n",
    "        \n",
    "class Skill:\n",
    "    str_damage = 0\n",
    "    magic_damage = 0\n",
    "    cooldown = 0\n",
    "    \n",
    "    def __init__(self, str_damage, magic_damage, cooldown):\n",
    "        self.str_damage = str_damage\n",
    "        self.magic_damage = magic_damage\n",
    "        self.cooldown = cooldown\n",
    "\n",
    "        \n",
    "class InGameHero(Hero):\n",
    "    user = ''    # User\n",
    "    skin = ''\n",
    "    level = 0\n",
    "    money = 0\n",
    "    items = []    # InGameItem\n",
    "    useable_skills = []    # Skill\n",
    "    total_dmg = 0\n",
    "    kill = 0\n",
    "    die = 0\n",
    "    assist = 0\n",
    "    team = ''\n",
    "    \n",
    "    def __init__(self, user, skin='common'):\n",
    "        self.user = user\n",
    "        self.skin = skin\n",
    "    def buyItem(self, item):\n",
    "        if(len(self.item) < 6):\n",
    "            if(self.money >= item.buyprice):\n",
    "                self.item.append(item)\n",
    "                self.money = self.money - item.buyprice\n",
    "            else:\n",
    "                print(\"not enough money\")\n",
    "        else:\n",
    "            print(\"Full ITEMS\")\n",
    "    def sellItem(self, idx):\n",
    "        self.money = self.money + self.item[idx].sellprice\n",
    "        self.item.remove(idx)\n",
    "    \n",
    "    \n",
    "class InGameItem:\n",
    "    buyprice = 0\n",
    "    sellprice = 0\n",
    "    prop = ''\n",
    "    components = []    # InGameItem    \n",
    "    def __init__(self, bp, sp, ppt, *arg):\n",
    "        self.buyprice = bp\n",
    "        self.sellprice = sp\n",
    "        self.prop = ppt\n",
    "        self.components.append(arg)\n",
    "    \n",
    "    \n",
    "class Match:\n",
    "    radiant_team = []\n",
    "    dire_team = []\n",
    "    win_team = ''\n",
    "    time = 0.00\n",
    "    \n",
    "    def __init__(r1, r2, r3, r4, r5, b1, b2, b3, b4, b5):\n",
    "        self.radiant_team.append(r1, r2, r3, r4, r5)\n",
    "        self.dire_team.append(b1, b2, b3, b4, b5)\n",
    "        raise Exception('Import all in game items FIRST!!')\n",
    "    def select_hero():\n",
    "        raise Exception('Select heroes and create in game heroes')\n",
    "    def start():\n",
    "        raise Exception('Start game... HOW???')\n",
    "    def dispense(self, coin, *heroes):\n",
    "        for hero in heroes:\n",
    "            hero.user.coin = hero.user.coin + coin\n",
    "    def endgame():\n",
    "        if win_team == 'radiant':\n",
    "            dispense(10000, radiant_team)\n",
    "            dispense(5000, dire_team)\n",
    "        else:\n",
    "            dispense(5000, radiant_team)\n",
    "            dispense(10000, dire_team)\n",
    "\n",
    "    \n",
    "class Item:\n",
    "    cash_price = 0\n",
    "    coin_price = 0\n",
    "    prop = ''\n",
    "    \n",
    "    def __init__(self, prop, cash_price = 0, coin_price = 0):\n",
    "        self.prop = prop\n",
    "        self.cash_price = cash_price\n",
    "        self.coin_price = coin_price\n",
    "    \n",
    "    \n",
    "class Shop:\n",
    "    items = []    # Item\n",
    "    skins = []    # Skin\n",
    "    heros = []    # Hero\n",
    "\n",
    "    \n",
    "class Server:\n",
    "    max_user = 0\n",
    "    online_users = []    # User\n",
    "    wallet = 0\n",
    "    unit = ''    # unit of money"
   ]
  },
  {
   "cell_type": "code",
   "execution_count": 43,
   "metadata": {},
   "outputs": [],
   "source": [
    "thai_server = Server()\n",
    "\n",
    "# Create SKINS\n",
    "common = Skin('common skin')\n",
    "bloodraid = Skin('bloodrain skin', 400)\n",
    "moonlight = Skin('moonlight skin', 200)\n",
    "cerulean = Skin('cerulean skin', 300)\n",
    "arrival = Skin('arrival skin', 500)"
   ]
  },
  {
   "cell_type": "code",
   "execution_count": 44,
   "metadata": {},
   "outputs": [],
   "source": [
    "# Create HEROS\n",
    "airi = Hero('Airi', [common, bloodraid], 520, 18000, 500, 40)\n",
    "lindis = Hero('Lindis', [common, moonlight], 480, 15000, 800, 20)\n",
    "arum = Hero('Arum', [common], 500, 17500, 600, 10)\n",
    "murad = Hero('Murad', [common, cerulean, arrival], 520, 18000, 400, 80)\n",
    "jinna = Hero('Jinna', [common], 460, 13000, 500, 30)"
   ]
  },
  {
   "cell_type": "code",
   "execution_count": 45,
   "metadata": {},
   "outputs": [],
   "source": [
    "start_hero = [airi, arum]\n",
    "User.heros = start_hero\n",
    "User.skins = [common]\n",
    "\n",
    "winai = User('Winai', thai_server)\n",
    "pailin = User('Pailin', thai_server)\n",
    "jobs = User('Jobs', thai_server)\n",
    "ongsa = User('Ongsa', thai_server)"
   ]
  },
  {
   "cell_type": "code",
   "execution_count": 46,
   "metadata": {},
   "outputs": [],
   "source": [
    "pailin.insert_cash(200000)"
   ]
  },
  {
   "cell_type": "code",
   "execution_count": 47,
   "metadata": {},
   "outputs": [],
   "source": [
    "pailin.buyHero('cash',jinna)"
   ]
  },
  {
   "cell_type": "code",
   "execution_count": 48,
   "metadata": {},
   "outputs": [
    {
     "data": {
      "text/plain": [
       "200000"
      ]
     },
     "execution_count": 48,
     "metadata": {},
     "output_type": "execute_result"
    }
   ],
   "source": [
    "thai_server.wallet"
   ]
  },
  {
   "cell_type": "code",
   "execution_count": 49,
   "metadata": {},
   "outputs": [
    {
     "name": "stdout",
     "output_type": "stream",
     "text": [
      "moonlight skin is not skin of Airi\n"
     ]
    }
   ],
   "source": [
    "airi.buySkin(pailin, moonlight)"
   ]
  },
  {
   "cell_type": "code",
   "execution_count": null,
   "metadata": {},
   "outputs": [],
   "source": []
  }
 ],
 "metadata": {
  "kernelspec": {
   "display_name": "Python 3",
   "language": "python",
   "name": "python3"
  },
  "language_info": {
   "codemirror_mode": {
    "name": "ipython",
    "version": 3
   },
   "file_extension": ".py",
   "mimetype": "text/x-python",
   "name": "python",
   "nbconvert_exporter": "python",
   "pygments_lexer": "ipython3",
   "version": "3.7.3"
  }
 },
 "nbformat": 4,
 "nbformat_minor": 4
}
