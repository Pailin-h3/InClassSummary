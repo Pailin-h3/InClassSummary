{
 "cells": [
  {
   "cell_type": "code",
   "execution_count": 1,
   "metadata": {},
   "outputs": [],
   "source": [
    "class aclass():\n",
    "    a = 1\n",
    "    b = 2\n",
    "\n",
    "obj = aclass()"
   ]
  },
  {
   "cell_type": "code",
   "execution_count": 2,
   "metadata": {},
   "outputs": [
    {
     "name": "stdout",
     "output_type": "stream",
     "text": [
      "<__main__.aclass object at 0x0000025AA652F320>\n"
     ]
    }
   ],
   "source": [
    "print(obj)"
   ]
  },
  {
   "cell_type": "code",
   "execution_count": 3,
   "metadata": {},
   "outputs": [
    {
     "data": {
      "text/plain": [
       "('Lin', 'Samuel', 'Lin')"
      ]
     },
     "execution_count": 3,
     "metadata": {},
     "output_type": "execute_result"
    }
   ],
   "source": [
    "class rec:\n",
    "    pass   # สร้าง class ว่างๆ\n",
    "\n",
    "# ใส่ตัวแปรใน class แบบนี้ได้เลย\n",
    "rec.name = \"Lin\"\n",
    "rec.age = 20\n",
    "rec.job = ['dev','mgr']\n",
    "\n",
    "a = rec()\n",
    "b = rec()\n",
    "a.name = \"Samuel\"\n",
    "rec.name,a.name,b.name"
   ]
  },
  {
   "cell_type": "code",
   "execution_count": 4,
   "metadata": {},
   "outputs": [
    {
     "data": {
      "text/plain": [
       "('Jackson', 'Samuel', 'Jackson')"
      ]
     },
     "execution_count": 4,
     "metadata": {},
     "output_type": "execute_result"
    }
   ],
   "source": [
    "rec.name = \"Jackson\"\n",
    "\n",
    "# Change Head Change The One You Have NOT CHANGE\n",
    "rec.name,a.name,b.name"
   ]
  },
  {
   "cell_type": "code",
   "execution_count": 5,
   "metadata": {},
   "outputs": [
    {
     "data": {
      "text/plain": [
       "'SAMUEL'"
      ]
     },
     "execution_count": 5,
     "metadata": {},
     "output_type": "execute_result"
    }
   ],
   "source": [
    "def uppername(obj):\n",
    "    return obj.name.upper()\n",
    "\n",
    "uppername(a)"
   ]
  },
  {
   "cell_type": "code",
   "execution_count": 6,
   "metadata": {},
   "outputs": [],
   "source": [
    "rec.uppername = uppername # ยัด method(function) ใส่ class"
   ]
  },
  {
   "cell_type": "code",
   "execution_count": 7,
   "metadata": {},
   "outputs": [
    {
     "data": {
      "text/plain": [
       "mappingproxy({'__module__': '__main__',\n",
       "              '__dict__': <attribute '__dict__' of 'rec' objects>,\n",
       "              '__weakref__': <attribute '__weakref__' of 'rec' objects>,\n",
       "              '__doc__': None,\n",
       "              'name': 'Jackson',\n",
       "              'age': 20,\n",
       "              'job': ['dev', 'mgr'],\n",
       "              'uppername': <function __main__.uppername(obj)>})"
      ]
     },
     "execution_count": 7,
     "metadata": {},
     "output_type": "execute_result"
    }
   ],
   "source": [
    "rec.__dict__"
   ]
  },
  {
   "cell_type": "code",
   "execution_count": 8,
   "metadata": {},
   "outputs": [
    {
     "data": {
      "text/plain": [
       "'SAMUEL'"
      ]
     },
     "execution_count": 8,
     "metadata": {},
     "output_type": "execute_result"
    }
   ],
   "source": [
    "a.uppername()"
   ]
  },
  {
   "cell_type": "markdown",
   "metadata": {},
   "source": [
    ".\n",
    "\n",
    "Class VS. Dictionary"
   ]
  },
  {
   "cell_type": "markdown",
   "metadata": {},
   "source": [
    "เหมือนกัน ต่างกันแค่ class มี method ในตัวแต่ dict ไม่มี"
   ]
  },
  {
   "cell_type": "code",
   "execution_count": 9,
   "metadata": {},
   "outputs": [
    {
     "name": "stdout",
     "output_type": "stream",
     "text": [
      "('Winai', 40, ['dev', 'mgr'])\n",
      "\n",
      "{'name': 'Winai', 'age': 40, 'jobs': ['dev', 'mgr']}\n",
      "\n",
      "{'__module__': '__main__', '__dict__': <attribute '__dict__' of 'rec' objects>, '__weakref__': <attribute '__weakref__' of 'rec' objects>, '__doc__': None, 'name': 'Jackson', 'age': 20, 'job': ['dev', 'mgr'], 'uppername': <function uppername at 0x0000025AA650B730>}\n"
     ]
    }
   ],
   "source": [
    "# TUPPLE\n",
    "tupdata = ('Winai',40,['dev','mgr'])\n",
    "\n",
    "# DICTIONARY\n",
    "dictdata = {}\n",
    "dictdata['name'] = 'Winai'\n",
    "dictdata['age'] = 40\n",
    "dictdata['jobs'] = ['dev','mgr']\n",
    "\n",
    "print(tupdata)\n",
    "print()\n",
    "print(dictdata)\n",
    "print()\n",
    "print(rec.__dict__)"
   ]
  },
  {
   "cell_type": "code",
   "execution_count": 10,
   "metadata": {},
   "outputs": [],
   "source": [
    "# รีบสร้างจัด\n",
    "class randomclass: pass\n",
    "\n",
    "purse001 = randomclass()\n",
    "purse001.name = 'Lv'\n",
    "purse001.price = 12000.00\n",
    "purse001.currency = '$'\n",
    "\n",
    "purse002 = randomclass()\n",
    "purse002.name = \"Bally\"\n",
    "purse002.price = 15000.00\n",
    "purse002.currency = ['$','GBP']"
   ]
  },
  {
   "cell_type": "code",
   "execution_count": 11,
   "metadata": {},
   "outputs": [
    {
     "data": {
      "text/plain": [
       "({'name': 'Lv', 'price': 12000.0, 'currency': '$'},\n",
       " {'name': 'Bally', 'price': 15000.0, 'currency': ['$', 'GBP']})"
      ]
     },
     "execution_count": 11,
     "metadata": {},
     "output_type": "execute_result"
    }
   ],
   "source": [
    "purse001.__dict__, purse002.__dict__"
   ]
  },
  {
   "cell_type": "code",
   "execution_count": 12,
   "metadata": {},
   "outputs": [
    {
     "data": {
      "text/plain": [
       "(('Lv', 20000, 'USD'), ('Bally', 19000, ['USD', 'GBP']))"
      ]
     },
     "execution_count": 12,
     "metadata": {},
     "output_type": "execute_result"
    }
   ],
   "source": [
    "# เป็นมิตรกับสิ่งแวดล้อม (อ่านง่ายแหละ)\n",
    "# ไม่ต้องใส่ตัวแปรก่อนเลยไปเขียนใน init แทน\n",
    "class purse:\n",
    "    def __init__(self, name, price, currency):\n",
    "        self.name = name\n",
    "        self.price = price\n",
    "        self.currency = currency\n",
    "    def info(self):\n",
    "        return (self.name, self.price, self.currency)\n",
    "    \n",
    "p1 = purse('Lv', 20000, 'USD')\n",
    "p2 = purse('Bally', 19000, ['USD','GBP'])\n",
    "\n",
    "p1.info(), p2.info()"
   ]
  },
  {
   "cell_type": "markdown",
   "metadata": {},
   "source": [
    ".\n",
    "\n",
    "More Realistic Example"
   ]
  },
  {
   "cell_type": "code",
   "execution_count": 13,
   "metadata": {},
   "outputs": [
    {
     "name": "stdout",
     "output_type": "stream",
     "text": [
      "('Angel scoll', None, 0)\n",
      "('Boss smitt', 'Student', 0)\n",
      "('Samart tiger', 'Boxer', 40000)\n"
     ]
    },
    {
     "data": {
      "text/plain": [
       "[Person: Samart tiger, 40000]"
      ]
     },
     "execution_count": 13,
     "metadata": {},
     "output_type": "execute_result"
    }
   ],
   "source": [
    "class Person:\n",
    "    def __init__(self, name, job=None, pay=0): # job and pay are obtional\n",
    "        self.name = name\n",
    "        self.job = job\n",
    "        self.pay = pay\n",
    "    def lastname(self):\n",
    "        return self.name.split()[1]\n",
    "    def giveRaise(self, p=0.00):\n",
    "        self.pay = int(self.pay * (1+p))\n",
    "    def info(self):\n",
    "        return (self.name, self.job, self.pay)\n",
    "    def __repr__(self): # สั่งดูข้อมูลจะออกอันนี้\n",
    "        return '[Person: %s, %s]'% (self.name, self.pay)\n",
    "        \n",
    "angel = Person('Angel scoll')\n",
    "boss = Person('Boss smitt','Student')\n",
    "samart = Person('Samart tiger','Boxer',40000)\n",
    "\n",
    "print(angel.info())\n",
    "print(boss.info())\n",
    "print(samart.info())\n",
    "\n",
    "samart"
   ]
  },
  {
   "cell_type": "code",
   "execution_count": 14,
   "metadata": {},
   "outputs": [
    {
     "data": {
      "text/plain": [
       "52800"
      ]
     },
     "execution_count": 14,
     "metadata": {},
     "output_type": "execute_result"
    }
   ],
   "source": [
    "samart.giveRaise(0.1)\n",
    "samart.giveRaise(0.2)\n",
    "samart.pay"
   ]
  },
  {
   "cell_type": "markdown",
   "metadata": {},
   "source": [
    ".\n",
    "\n",
    ".\n",
    "\n",
    "__name__ and __main__"
   ]
  },
  {
   "cell_type": "code",
   "execution_count": 15,
   "metadata": {},
   "outputs": [
    {
     "name": "stdout",
     "output_type": "stream",
     "text": [
      "อยากปริ้นไรก็ปริ้น\n"
     ]
    }
   ],
   "source": [
    "# self test คนก๊อปโค้ดไปจะไม่เข้า if\n",
    "\n",
    "if __name__ == '__main__':\n",
    "    print('อยากปริ้นไรก็ปริ้น')"
   ]
  },
  {
   "cell_type": "markdown",
   "metadata": {},
   "source": [
    ".\n",
    "\n",
    ".\n",
    "\n",
    "Operator Overloading (การ Over write method ไง)"
   ]
  },
  {
   "cell_type": "code",
   "execution_count": 19,
   "metadata": {},
   "outputs": [
    {
     "data": {
      "text/plain": [
       "([Person: Nattawadee Ekmaruken, 25000], [Person: Year Yuppry, 25000])"
      ]
     },
     "execution_count": 19,
     "metadata": {},
     "output_type": "execute_result"
    }
   ],
   "source": [
    "# Good way to Overloading\n",
    "class Manager(Person):\n",
    "    def giveRaise(self, p=0.00, bonus=0.00):\n",
    "        Person.giveRaise(self, p+bonus)  #เรียกซ้ำ\n",
    "        \n",
    "llani = Manager('Nattawadee Ekmaruken', 'Graduate', 25000)\n",
    "yuppry = Person('Year Yuppry', 'Backend Developer', 25000)\n",
    "\n",
    "llani, yuppry"
   ]
  },
  {
   "cell_type": "code",
   "execution_count": 20,
   "metadata": {},
   "outputs": [
    {
     "data": {
      "text/plain": [
       "([Person: Nattawadee Ekmaruken, 27500], [Person: Year Yuppry, 27500])"
      ]
     },
     "execution_count": 20,
     "metadata": {},
     "output_type": "execute_result"
    }
   ],
   "source": [
    "llani.giveRaise(0.1)\n",
    "yuppry.giveRaise(0.1)\n",
    "\n",
    "llani, yuppry"
   ]
  },
  {
   "cell_type": "code",
   "execution_count": 21,
   "metadata": {},
   "outputs": [
    {
     "data": {
      "text/plain": [
       "[Person: Nattawadee Ekmaruken, 28875]"
      ]
     },
     "execution_count": 21,
     "metadata": {},
     "output_type": "execute_result"
    }
   ],
   "source": [
    "llani.giveRaise(bonus=0.05) # สลับที่ได้เว้ยแกรรร \n",
    "llani"
   ]
  },
  {
   "cell_type": "code",
   "execution_count": 22,
   "metadata": {},
   "outputs": [
    {
     "name": "stdout",
     "output_type": "stream",
     "text": [
      "[Person: Nattawadee Ekmaruken, 28875]\n",
      "[Person: Year Yuppry, 27500]\n",
      "[Person: Angel scoll, 0]\n",
      "[Person: Boss smitt, 0]\n",
      "[Person: Samart tiger, 52800]\n"
     ]
    }
   ],
   "source": [
    "# ลูป obj กะได้เด้อ\n",
    "for obj in (llani, yuppry, angel, boss, samart):\n",
    "    print(obj)"
   ]
  },
  {
   "cell_type": "code",
   "execution_count": null,
   "metadata": {},
   "outputs": [],
   "source": []
  }
 ],
 "metadata": {
  "kernelspec": {
   "display_name": "Python 3",
   "language": "python",
   "name": "python3"
  },
  "language_info": {
   "codemirror_mode": {
    "name": "ipython",
    "version": 3
   },
   "file_extension": ".py",
   "mimetype": "text/x-python",
   "name": "python",
   "nbconvert_exporter": "python",
   "pygments_lexer": "ipython3",
   "version": "3.7.3"
  }
 },
 "nbformat": 4,
 "nbformat_minor": 4
}
