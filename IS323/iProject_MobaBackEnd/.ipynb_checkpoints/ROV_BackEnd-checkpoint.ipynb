{
 "cells": [
  {
   "cell_type": "code",
   "execution_count": 1,
   "metadata": {},
   "outputs": [],
   "source": [
    "import sqlalchemy\n",
    "from sqlalchemy import create_engine, Column, Integer, String, Sequence, ForeignKey, Time\n",
    "from sqlalchemy.ext.declarative import declarative_base\n",
    "from sqlalchemy.orm import sessionmaker, relationship"
   ]
  },
  {
   "cell_type": "code",
   "execution_count": 2,
   "metadata": {},
   "outputs": [],
   "source": [
    "engine = create_engine('sqlite:///iProject.db', echo=True)\n",
    "Base = declarative_base()"
   ]
  },
  {
   "cell_type": "code",
   "execution_count": 3,
   "metadata": {},
   "outputs": [],
   "source": [
    "class User(Base):\n",
    "    __tablename__ = 'users'\n",
    "    id = Column(Integer, Sequence('player_id_seq'), primary_key=True)\n",
    "    rank = Column(String(1))\n",
    "    cash = Column(Integer)\n",
    "    coin = Column(Integer)\n",
    "#     heroes_id = Column(Integer, ForeignKey('heroes.id'))\n",
    "#     heroes = relationship(\"Hero\")\n",
    "#     skins_id = Column(Integer, ForeignKey('skins.id'))\n",
    "#     skins = relationship(\"Skin\")\n",
    "#     match_history_id = Column(Integer, ForeignKey('match.id'))\n",
    "#     match_history = relationship(\"Match\")\n",
    "#     friends_id = Column(Integer, ForeignKey('users.id'))\n",
    "#     friends = relationship(\"User\")\n",
    "    \n",
    "    def __init__(self, name, server):\n",
    "        self.name = name\n",
    "        self.server = server\n",
    "        server.online_users.append(self)\n",
    "    def __repr__(self):\n",
    "        return 'User: %s\\\n",
    "                rank: %s\\\n",
    "                cash: %d\\\n",
    "                coin: %d' % (self.name,\n",
    "                            self.rank,\n",
    "                            self.cash,\n",
    "                            self.coin)    # Can't loop Heros name\n",
    "    def rankUP(self):\n",
    "        pass \n",
    "    def rankDOWN(self):\n",
    "        pass \n",
    "    def insert_cash(self, m):\n",
    "        self.cash = self.cash + m\n",
    "        self.server.wallet = self.server.wallet + m\n",
    "    def buyHero(self, c, hero):\n",
    "        if(c == 'cash'):\n",
    "            if(self.cash >= hero.cash_price):\n",
    "                self.cash = self.cash - hero.cash_price\n",
    "                self.heroes.append(hero)\n",
    "            else:\n",
    "                print(\"Your cash not enough\")\n",
    "        else:\n",
    "            if(self.coin >= hero.coin_price):\n",
    "                self.coin = self.coin - hero.coin_price\n",
    "                self.heroes.append(hero)\n",
    "            else:\n",
    "                print(\"Your coin not enough\")\n",
    "\n",
    "                \n",
    "class Hero(Base):\n",
    "    __tablename__ = 'heroes'\n",
    "    id = Column(Integer, Sequence('hero_id_seq'), primary_key=True)\n",
    "    healthPoint = Column(Integer)\n",
    "    manaPoint = Column(Integer)\n",
    "    damage = Column(Integer)\n",
    "    cash_price = Column(Integer)\n",
    "    coin_price = Column(Integer)\n",
    "#     skins_id = Column(Integer, ForeignKey('skins.id'))\n",
    "#     skins = relationship(\"Skin\")\n",
    "#     skills_id = Column(Integer, ForeignKey('skills.id'))\n",
    "#     skills = relationship(\"Skill\")\n",
    "    ingame_id = Column(Integer)\n",
    "    __mapper_args__ = {\n",
    "        'polymorphic_on' : ingame_id\n",
    "    }\n",
    "    \n",
    "    def __init__(self, name, skin='', cash_price=0, coin_price=0, hp=300, damage=20):\n",
    "        self.name = name\n",
    "#         self.skins.append(skin)\n",
    "        self.cash_price = cash_price\n",
    "        self.coin_price = coin_price\n",
    "        self.healthPoint = hp\n",
    "        self.damage = damage\n",
    "#     def buySkin(self, buyer, skin):\n",
    "#         if(skin in self.skins):\n",
    "#             if(self in buyer.heros):\n",
    "#                 if(buyer.cash >= skin.price):\n",
    "#                     buyer.cash = buyer.cash - skin.price\n",
    "#                     self.skins.append(skin)\n",
    "#                 else:\n",
    "#                     print(\"cash not enough\")\n",
    "#             else:\n",
    "#                 print(\"Buy Hero First\")\n",
    "#         else:\n",
    "#             print(\"%s is not skin of %s\"% (skin.pic, self.name))\n",
    "    \n",
    "    \n",
    "class Skin(Base):\n",
    "    __tablename__ = 'skins'\n",
    "    id = Column(Integer, Sequence('skin_id_seq'), primary_key=True)\n",
    "    pic = Column(String)\n",
    "    price = Column(Integer)\n",
    "    \n",
    "    def __init__(self, pic, price=0):\n",
    "        self.pic = pic\n",
    "        self.price = price\n",
    "\n",
    "        \n",
    "class Skill(Base):\n",
    "    __tablename__ = 'skills'\n",
    "    id = Column(Integer, Sequence('skill_id_seq'), primary_key=True)\n",
    "    str_damage = Column(Integer)\n",
    "    magic_damage = Column(Integer)\n",
    "    cooldown = Column(Integer)\n",
    "    \n",
    "    def __init__(self, str_damage, magic_damage, cooldown):\n",
    "        self.str_damage = str_damage\n",
    "        self.magic_damage = magic_damage\n",
    "        self.cooldown = cooldown\n",
    "\n",
    "        \n",
    "class InGameHero(Hero):\n",
    "    __tablename__ = 'ingamehero'\n",
    "    id = Column(Integer, Sequence('ingamehero_id_seq'), ForeignKey('heroes.id'), primary_key=True)\n",
    "    level = Column(Integer)\n",
    "    money = Column(Integer)\n",
    "#     items_id = Column(Integer, ForeignKey('items.id'))\n",
    "#     items = relationship(\"InGameItem\")\n",
    "#     useable_skills_id = Column(Integer, ForeignKey('skills.id'))\n",
    "#     useable_skills = relationship(\"Skill\")\n",
    "    total_dmg = Column(Integer)\n",
    "    kill = Column(Integer)\n",
    "    die = Column(Integer)\n",
    "    assist = Column(Integer)\n",
    "    team = Column(String)\n",
    "    __mapper_args__ = {\n",
    "        'polymorphic_identity' : 'ingamehero'\n",
    "    }\n",
    "    \n",
    "    def __init__(self, user,team , skin='common'):\n",
    "        self.user = user\n",
    "        self.skin = skin\n",
    "        self.team = team\n",
    "#     def buyItem(self, item):\n",
    "#         if(len(self.item) < 6):\n",
    "#             if(self.money >= item.buyprice):\n",
    "#                 self.item.append(item)\n",
    "#                 self.money = self.money - item.buyprice\n",
    "#             else:\n",
    "#                 print(\"not enough money\")\n",
    "#         else:\n",
    "#             print(\"Full ITEMS\")\n",
    "#     def sellItem(self, idx):\n",
    "#         self.money = self.money + self.item[idx].sellprice\n",
    "#         self.item.remove(idx)\n",
    "    \n",
    "    \n",
    "class InGameItem(Base):\n",
    "    __tablename__ = 'itemsingame'\n",
    "    id = Column(Integer, Sequence('itemingame_id_seq'),primary_key=True)\n",
    "    buyprice = Column(Integer)\n",
    "    sellprice = Column(Integer)\n",
    "    prop = Column(String)\n",
    "#     component_id = Column(Integer, ForeignKey('itemsingame.id'))\n",
    "#     components = relationship(\"InGameItem\")\n",
    "\n",
    "    def __init__(self, bp, sp, ppt, *arg):\n",
    "        self.buyprice = bp\n",
    "        self.sellprice = sp\n",
    "        self.prop = ppt\n",
    "        self.components.append(arg)\n",
    "    \n",
    "    \n",
    "class Match(Base):\n",
    "    __tablename__ = 'matches'\n",
    "    id = Column(Integer, Sequence('match_id_seq'), primary_key=True)\n",
    "#     radiant_team_id = Column(Integer, ForeignKey('users.id'))\n",
    "#     radiant_team = relationship(\"User\")\n",
    "#     dire_team_id = Column(Integer, ForeignKey('users.id'))\n",
    "#     dire_team = relationship(\"User\")\n",
    "    win_team = Column(String)\n",
    "    time = Column(Time(timezone=False))\n",
    "    \n",
    "#     def __init__(r1, r2, r3, r4, r5, b1, b2, b3, b4, b5):\n",
    "#         self.radiant_team.append(r1, r2, r3, r4, r5)\n",
    "#         self.dire_team.append(b1, b2, b3, b4, b5)\n",
    "#         raise except('import all in game items')\n",
    "    def select_hero():\n",
    "        raise Exception('Select heroes and create in game heroes')\n",
    "    def start():\n",
    "        raise Exception('Start game... HOW???')\n",
    "#     def dispense(self, coin, *heroes):\n",
    "#         for hero in heroes:\n",
    "#             hero.user.coin = hero.user.coin + coin\n",
    "#     def endgame():\n",
    "#         if win_team == 'radiant':\n",
    "#             dispense(10000, radiant_team)\n",
    "#             dispense(5000, dire_team)\n",
    "#         else:\n",
    "#             dispense(5000, radiant_team)\n",
    "#             dispense(10000, dire_team)\n",
    "\n",
    "    \n",
    "class Item(Base):\n",
    "    __tablename__ = 'items'\n",
    "    id = Column(Integer, Sequence('item_id_seq'), primary_key=True)\n",
    "    cash_price = Column(Integer)\n",
    "    coin_price = Column(Integer)\n",
    "    prop = Column(String)\n",
    "    \n",
    "    def __init__(self, prop, cash_price = 0, coin_price = 0):\n",
    "        self.prop = prop\n",
    "        self.cash_price = cash_price\n",
    "        self.coin_price = coin_price\n",
    "    \n",
    "    \n",
    "# class Shop(Base):\n",
    "#     __tablename__ = 'Shops'\n",
    "#     id = Column(Integer, Sequence('shop_id_seq'), primary_key=True)\n",
    "#     items_id = Column(Integer, ForeignKey('items.id'))\n",
    "#     items = relationship(\"Item\")\n",
    "#     skins_id = Column(Integer, ForeignKey('skins.id'))\n",
    "#     skins = relationship(\"Skin\")\n",
    "#     heroes_id = Column(Integer, ForeignKey('heroes.id'))\n",
    "#     items = relationship(\"Hero\")\n",
    "\n",
    "    \n",
    "class Server(Base):\n",
    "    __tablename__ = 'servers'\n",
    "    id = Column(Integer, Sequence('server_id_seq'), primary_key=True)\n",
    "    server_name = Column(String)\n",
    "    max_user = Column(Integer)\n",
    "#     online_users_id = Column(Integer, ForeignKey('users.id'))\n",
    "#     online_users = relationship(\"User\")\n",
    "    wallet = Column(Integer)\n",
    "    unit = Column(String(3))    # unit of money\n",
    "    \n",
    "    def __repr__(self):\n",
    "        return '%s Server[max_user = %d, wallet = %d %s]'%(self.server_name, self.max_user, self.wallet, self.unit)"
   ]
  },
  {
   "cell_type": "code",
   "execution_count": 4,
   "metadata": {
    "jupyter": {
     "source_hidden": true
    }
   },
   "outputs": [
    {
     "data": {
      "text/plain": [
       "Table('users', MetaData(bind=None), Column('id', Integer(), table=<users>, primary_key=True, nullable=False, default=Sequence('player_id_seq', metadata=MetaData(bind=None))), Column('rank', String(length=1), table=<users>), Column('cash', Integer(), table=<users>), Column('coin', Integer(), table=<users>), schema=None)"
      ]
     },
     "execution_count": 4,
     "metadata": {},
     "output_type": "execute_result"
    }
   ],
   "source": [
    "User.__table__"
   ]
  },
  {
   "cell_type": "code",
   "execution_count": 5,
   "metadata": {},
   "outputs": [
    {
     "name": "stdout",
     "output_type": "stream",
     "text": [
      "2020-07-05 17:26:08,154 INFO sqlalchemy.engine.base.Engine SELECT CAST('test plain returns' AS VARCHAR(60)) AS anon_1\n",
      "2020-07-05 17:26:08,163 INFO sqlalchemy.engine.base.Engine ()\n",
      "2020-07-05 17:26:08,167 INFO sqlalchemy.engine.base.Engine SELECT CAST('test unicode returns' AS VARCHAR(60)) AS anon_1\n",
      "2020-07-05 17:26:08,169 INFO sqlalchemy.engine.base.Engine ()\n",
      "2020-07-05 17:26:08,175 INFO sqlalchemy.engine.base.Engine PRAGMA main.table_info(\"users\")\n",
      "2020-07-05 17:26:08,177 INFO sqlalchemy.engine.base.Engine ()\n",
      "2020-07-05 17:26:08,182 INFO sqlalchemy.engine.base.Engine PRAGMA temp.table_info(\"users\")\n",
      "2020-07-05 17:26:08,186 INFO sqlalchemy.engine.base.Engine ()\n",
      "2020-07-05 17:26:08,189 INFO sqlalchemy.engine.base.Engine PRAGMA main.table_info(\"heroes\")\n",
      "2020-07-05 17:26:08,191 INFO sqlalchemy.engine.base.Engine ()\n",
      "2020-07-05 17:26:08,194 INFO sqlalchemy.engine.base.Engine PRAGMA temp.table_info(\"heroes\")\n",
      "2020-07-05 17:26:08,196 INFO sqlalchemy.engine.base.Engine ()\n",
      "2020-07-05 17:26:08,198 INFO sqlalchemy.engine.base.Engine PRAGMA main.table_info(\"skins\")\n",
      "2020-07-05 17:26:08,200 INFO sqlalchemy.engine.base.Engine ()\n",
      "2020-07-05 17:26:08,203 INFO sqlalchemy.engine.base.Engine PRAGMA temp.table_info(\"skins\")\n",
      "2020-07-05 17:26:08,206 INFO sqlalchemy.engine.base.Engine ()\n",
      "2020-07-05 17:26:08,209 INFO sqlalchemy.engine.base.Engine PRAGMA main.table_info(\"skills\")\n",
      "2020-07-05 17:26:08,212 INFO sqlalchemy.engine.base.Engine ()\n",
      "2020-07-05 17:26:08,215 INFO sqlalchemy.engine.base.Engine PRAGMA temp.table_info(\"skills\")\n",
      "2020-07-05 17:26:08,219 INFO sqlalchemy.engine.base.Engine ()\n",
      "2020-07-05 17:26:08,222 INFO sqlalchemy.engine.base.Engine PRAGMA main.table_info(\"ingamehero\")\n",
      "2020-07-05 17:26:08,225 INFO sqlalchemy.engine.base.Engine ()\n",
      "2020-07-05 17:26:08,230 INFO sqlalchemy.engine.base.Engine PRAGMA temp.table_info(\"ingamehero\")\n",
      "2020-07-05 17:26:08,233 INFO sqlalchemy.engine.base.Engine ()\n",
      "2020-07-05 17:26:08,237 INFO sqlalchemy.engine.base.Engine PRAGMA main.table_info(\"itemsingame\")\n",
      "2020-07-05 17:26:08,240 INFO sqlalchemy.engine.base.Engine ()\n",
      "2020-07-05 17:26:08,245 INFO sqlalchemy.engine.base.Engine PRAGMA temp.table_info(\"itemsingame\")\n",
      "2020-07-05 17:26:08,248 INFO sqlalchemy.engine.base.Engine ()\n",
      "2020-07-05 17:26:08,253 INFO sqlalchemy.engine.base.Engine PRAGMA main.table_info(\"matches\")\n",
      "2020-07-05 17:26:08,257 INFO sqlalchemy.engine.base.Engine ()\n",
      "2020-07-05 17:26:08,263 INFO sqlalchemy.engine.base.Engine PRAGMA temp.table_info(\"matches\")\n",
      "2020-07-05 17:26:08,266 INFO sqlalchemy.engine.base.Engine ()\n",
      "2020-07-05 17:26:08,270 INFO sqlalchemy.engine.base.Engine PRAGMA main.table_info(\"items\")\n",
      "2020-07-05 17:26:08,272 INFO sqlalchemy.engine.base.Engine ()\n",
      "2020-07-05 17:26:08,276 INFO sqlalchemy.engine.base.Engine PRAGMA temp.table_info(\"items\")\n",
      "2020-07-05 17:26:08,279 INFO sqlalchemy.engine.base.Engine ()\n",
      "2020-07-05 17:26:08,283 INFO sqlalchemy.engine.base.Engine PRAGMA main.table_info(\"servers\")\n",
      "2020-07-05 17:26:08,285 INFO sqlalchemy.engine.base.Engine ()\n",
      "2020-07-05 17:26:08,289 INFO sqlalchemy.engine.base.Engine PRAGMA temp.table_info(\"servers\")\n",
      "2020-07-05 17:26:08,292 INFO sqlalchemy.engine.base.Engine ()\n",
      "2020-07-05 17:26:08,298 INFO sqlalchemy.engine.base.Engine \n",
      "CREATE TABLE users (\n",
      "\tid INTEGER NOT NULL, \n",
      "\trank VARCHAR(1), \n",
      "\tcash INTEGER, \n",
      "\tcoin INTEGER, \n",
      "\tPRIMARY KEY (id)\n",
      ")\n",
      "\n",
      "\n",
      "2020-07-05 17:26:08,300 INFO sqlalchemy.engine.base.Engine ()\n",
      "2020-07-05 17:26:08,514 INFO sqlalchemy.engine.base.Engine COMMIT\n",
      "2020-07-05 17:26:08,517 INFO sqlalchemy.engine.base.Engine \n",
      "CREATE TABLE heroes (\n",
      "\tid INTEGER NOT NULL, \n",
      "\t\"healthPoint\" INTEGER, \n",
      "\t\"manaPoint\" INTEGER, \n",
      "\tdamage INTEGER, \n",
      "\tcash_price INTEGER, \n",
      "\tcoin_price INTEGER, \n",
      "\tingame_id INTEGER, \n",
      "\tPRIMARY KEY (id)\n",
      ")\n",
      "\n",
      "\n",
      "2020-07-05 17:26:08,519 INFO sqlalchemy.engine.base.Engine ()\n",
      "2020-07-05 17:26:08,653 INFO sqlalchemy.engine.base.Engine COMMIT\n",
      "2020-07-05 17:26:08,657 INFO sqlalchemy.engine.base.Engine \n",
      "CREATE TABLE skins (\n",
      "\tid INTEGER NOT NULL, \n",
      "\tpic VARCHAR, \n",
      "\tprice INTEGER, \n",
      "\tPRIMARY KEY (id)\n",
      ")\n",
      "\n",
      "\n",
      "2020-07-05 17:26:08,660 INFO sqlalchemy.engine.base.Engine ()\n",
      "2020-07-05 17:26:08,792 INFO sqlalchemy.engine.base.Engine COMMIT\n",
      "2020-07-05 17:26:08,795 INFO sqlalchemy.engine.base.Engine \n",
      "CREATE TABLE skills (\n",
      "\tid INTEGER NOT NULL, \n",
      "\tstr_damage INTEGER, \n",
      "\tmagic_damage INTEGER, \n",
      "\tcooldown INTEGER, \n",
      "\tPRIMARY KEY (id)\n",
      ")\n",
      "\n",
      "\n",
      "2020-07-05 17:26:08,797 INFO sqlalchemy.engine.base.Engine ()\n",
      "2020-07-05 17:26:08,921 INFO sqlalchemy.engine.base.Engine COMMIT\n",
      "2020-07-05 17:26:08,924 INFO sqlalchemy.engine.base.Engine \n",
      "CREATE TABLE itemsingame (\n",
      "\tid INTEGER NOT NULL, \n",
      "\tbuyprice INTEGER, \n",
      "\tsellprice INTEGER, \n",
      "\tprop VARCHAR, \n",
      "\tPRIMARY KEY (id)\n",
      ")\n",
      "\n",
      "\n",
      "2020-07-05 17:26:08,925 INFO sqlalchemy.engine.base.Engine ()\n",
      "2020-07-05 17:26:09,050 INFO sqlalchemy.engine.base.Engine COMMIT\n",
      "2020-07-05 17:26:09,053 INFO sqlalchemy.engine.base.Engine \n",
      "CREATE TABLE matches (\n",
      "\tid INTEGER NOT NULL, \n",
      "\twin_team VARCHAR, \n",
      "\ttime TIME, \n",
      "\tPRIMARY KEY (id)\n",
      ")\n",
      "\n",
      "\n",
      "2020-07-05 17:26:09,055 INFO sqlalchemy.engine.base.Engine ()\n",
      "2020-07-05 17:26:09,188 INFO sqlalchemy.engine.base.Engine COMMIT\n",
      "2020-07-05 17:26:09,191 INFO sqlalchemy.engine.base.Engine \n",
      "CREATE TABLE items (\n",
      "\tid INTEGER NOT NULL, \n",
      "\tcash_price INTEGER, \n",
      "\tcoin_price INTEGER, \n",
      "\tprop VARCHAR, \n",
      "\tPRIMARY KEY (id)\n",
      ")\n",
      "\n",
      "\n",
      "2020-07-05 17:26:09,194 INFO sqlalchemy.engine.base.Engine ()\n",
      "2020-07-05 17:26:09,339 INFO sqlalchemy.engine.base.Engine COMMIT\n",
      "2020-07-05 17:26:09,342 INFO sqlalchemy.engine.base.Engine \n",
      "CREATE TABLE servers (\n",
      "\tid INTEGER NOT NULL, \n",
      "\tserver_name VARCHAR, \n",
      "\tmax_user INTEGER, \n",
      "\twallet INTEGER, \n",
      "\tunit VARCHAR(3), \n",
      "\tPRIMARY KEY (id)\n",
      ")\n",
      "\n",
      "\n",
      "2020-07-05 17:26:09,344 INFO sqlalchemy.engine.base.Engine ()\n",
      "2020-07-05 17:26:09,478 INFO sqlalchemy.engine.base.Engine COMMIT\n",
      "2020-07-05 17:26:09,481 INFO sqlalchemy.engine.base.Engine \n",
      "CREATE TABLE ingamehero (\n",
      "\tid INTEGER NOT NULL, \n",
      "\tlevel INTEGER, \n",
      "\tmoney INTEGER, \n",
      "\ttotal_dmg INTEGER, \n",
      "\tkill INTEGER, \n",
      "\tdie INTEGER, \n",
      "\tassist INTEGER, \n",
      "\tteam VARCHAR, \n",
      "\tPRIMARY KEY (id), \n",
      "\tFOREIGN KEY(id) REFERENCES heroes (id)\n",
      ")\n",
      "\n",
      "\n",
      "2020-07-05 17:26:09,483 INFO sqlalchemy.engine.base.Engine ()\n",
      "2020-07-05 17:26:09,706 INFO sqlalchemy.engine.base.Engine COMMIT\n"
     ]
    }
   ],
   "source": [
    "Base.metadata.create_all(engine)"
   ]
  },
  {
   "cell_type": "code",
   "execution_count": 6,
   "metadata": {},
   "outputs": [],
   "source": [
    "thai_server = Server(server_name='Thai', max_user=10000, wallet=0, unit='THB')\n",
    "us_server = Server(server_name='USA',max_user=15000,wallet=0,unit='USD')\n",
    "eu_server = Server(server_name='Europe',max_user=12000,wallet=0,unit='EUR')"
   ]
  },
  {
   "cell_type": "code",
   "execution_count": 7,
   "metadata": {},
   "outputs": [
    {
     "data": {
      "text/plain": [
       "<sqlalchemy.orm.session.Session at 0x13b4d58d9b0>"
      ]
     },
     "execution_count": 7,
     "metadata": {},
     "output_type": "execute_result"
    }
   ],
   "source": [
    "Session = sessionmaker(bind=engine)\n",
    "session = Session()\n",
    "session"
   ]
  },
  {
   "cell_type": "code",
   "execution_count": 8,
   "metadata": {},
   "outputs": [],
   "source": [
    "for serve in [thai_server, us_server, eu_server]:\n",
    "    session.add(serve)"
   ]
  },
  {
   "cell_type": "code",
   "execution_count": 11,
   "metadata": {},
   "outputs": [],
   "source": [
    "all_server = session.query(Server)"
   ]
  },
  {
   "cell_type": "code",
   "execution_count": 10,
   "metadata": {},
   "outputs": [
    {
     "data": {
      "text/plain": [
       "IdentitySet([])"
      ]
     },
     "execution_count": 10,
     "metadata": {},
     "output_type": "execute_result"
    }
   ],
   "source": [
    "session.new"
   ]
  },
  {
   "cell_type": "code",
   "execution_count": 44,
   "metadata": {},
   "outputs": [
    {
     "data": {
      "text/plain": [
       "Thai Server[max_user = 10000, wallet = 0 THB]"
      ]
     },
     "execution_count": 44,
     "metadata": {},
     "output_type": "execute_result"
    }
   ],
   "source": [
    "thai_server"
   ]
  },
  {
   "cell_type": "code",
   "execution_count": 12,
   "metadata": {},
   "outputs": [
    {
     "name": "stdout",
     "output_type": "stream",
     "text": [
      "2020-07-05 17:27:11,936 INFO sqlalchemy.engine.base.Engine COMMIT\n"
     ]
    }
   ],
   "source": [
    "session.commit()"
   ]
  },
  {
   "cell_type": "code",
   "execution_count": 13,
   "metadata": {},
   "outputs": [],
   "source": [
    "session.close()"
   ]
  },
  {
   "cell_type": "code",
   "execution_count": 14,
   "metadata": {},
   "outputs": [
    {
     "data": {
      "text/plain": [
       "<sqlalchemy.orm.query.Query at 0x13b4d630c18>"
      ]
     },
     "execution_count": 14,
     "metadata": {},
     "output_type": "execute_result"
    }
   ],
   "source": [
    "all_server"
   ]
  },
  {
   "cell_type": "code",
   "execution_count": null,
   "metadata": {},
   "outputs": [],
   "source": []
  }
 ],
 "metadata": {
  "kernelspec": {
   "display_name": "Python 3",
   "language": "python",
   "name": "python3"
  },
  "language_info": {
   "codemirror_mode": {
    "name": "ipython",
    "version": 3
   },
   "file_extension": ".py",
   "mimetype": "text/x-python",
   "name": "python",
   "nbconvert_exporter": "python",
   "pygments_lexer": "ipython3",
   "version": "3.7.3"
  }
 },
 "nbformat": 4,
 "nbformat_minor": 4
}
