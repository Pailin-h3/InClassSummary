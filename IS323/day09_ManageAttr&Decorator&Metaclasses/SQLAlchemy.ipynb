{
 "cells": [
  {
   "cell_type": "code",
   "execution_count": 1,
   "metadata": {},
   "outputs": [
    {
     "name": "stdout",
     "output_type": "stream",
     "text": [
      "# packages in environment at C:\\Users\\Lenovo Demo\\Anaconda3:\n",
      "#\n",
      "# Name                    Version                   Build  Channel\n",
      "_anaconda_depends         2020.02                  py37_0  \n",
      "_ipyw_jlab_nb_ext_conf    0.1.0                    py37_0  \n",
      "alabaster                 0.7.12                   py37_0  \n",
      "altgraph                  0.17                     pypi_0    pypi\n",
      "anaconda                  custom                   py37_1  \n",
      "anaconda-client           1.7.2                    py37_0  \n",
      "anaconda-navigator        1.9.12                   py37_0  \n",
      "anaconda-project          0.8.4                      py_0  \n",
      "argh                      0.26.2                   py37_0  \n",
      "asn1crypto                1.3.0                    py37_0  \n",
      "astroid                   2.3.3                    py37_0  \n",
      "astropy                   4.0.1.post1      py37he774522_1  \n",
      "atomicwrites              1.4.0                      py_0  \n",
      "attrs                     19.3.0                     py_0  \n",
      "autopep8                  1.5.3                      py_0  \n",
      "babel                     2.8.0                      py_0  \n",
      "backcall                  0.2.0                      py_0  "
     ]
    }
   ],
   "source": [
    "!conda list"
   ]
  },
  {
   "cell_type": "code",
   "execution_count": 2,
   "metadata": {},
   "outputs": [
    {
     "name": "stdout",
     "output_type": "stream",
     "text": [
      "\n",
      "backports                 1.0                        py_2  \n",
      "backports.functools_lru_cache 1.6.1                      py_0  \n",
      "backports.shutil_get_terminal_size 1.0.0                    py37_2  \n",
      "backports.tempfile        1.0                        py_1  \n",
      "backports.weakref         1.0.post1                  py_1  \n",
      "bcrypt                    3.1.7            py37he774522_1  \n",
      "beautifulsoup4            4.9.1                    py37_0  \n",
      "bitarray                  1.2.2            py37he774522_0  \n",
      "bkcharts                  0.2                      py37_0  \n",
      "blas                      1.0                         mkl  \n",
      "bleach                    3.1.5                      py_0  \n",
      "blosc                     1.19.0               h7bd577a_0  \n",
      "bokeh                     2.1.1                    py37_0  \n",
      "boto                      2.49.0                   py37_0  \n",
      "bottleneck                1.3.2            py37h2a96729_1  \n",
      "brotlipy                  0.7.0           py37he774522_1000  \n",
      "bzip2                     1.0.8                he774522_0  \n",
      "ca-certificates           2020.6.24                     0  \n",
      "certifi                   2020.6.20                py37_0  \n",
      "cffi                      1.14.0           py37h7a1dbc1_0  \n",
      "chardet                   3.0.4                 py37_1003  \n",
      "click                     7.1.2                      py_0  \n",
      "cloudpickle               1.4.1                      py_0  \n",
      "clyent                    1.2.2                    py37_1  \n",
      "colorama                  0.4.3                      py_0  \n",
      "comtypes                  1.1.7                 py37_1001  \n",
      "conda                     4.8.3                    py37_0  \n",
      "conda-build               3.18.8                   py37_0  \n",
      "conda-env                 2.6.0                         1  \n",
      "conda-package-handling    1.6.1            py37h62dcd97_0  \n",
      "conda-verify              3.4.2                      py_1  \n",
      "console_shortcut          0.1.1                         3  \n",
      "contextlib2               0.6.0.post1                py_0  \n",
      "cryptography              2.9.2            py37h7a1dbc1_0  \n",
      "curl                      7.71.0               h2a8f88b_0  \n",
      "cycler                    0.10.0                   py37_0  \n",
      "cython                    0.29.15                  pypi_0    pypi\n",
      "cytoolz                   0.10.1           py37he774522_0  \n",
      "dask                      2.19.0                     py_0  \n",
      "dask-core                 2.19.0                     py_0  \n",
      "decorator                 4.4.2                      py_0  \n",
      "defusedxml                0.6.0                      py_0  \n",
      "diff-match-patch          20181111                   py_0  \n",
      "distributed               2.19.0                   py37_0  \n",
      "docutils                  0.16                     py37_1  \n",
      "entrypoints               0.3                      py37_0  \n",
      "et_xmlfile                1.0.1                    py37_0  \n",
      "fastcache                 1.1.0            py37he774522_0  \n",
      "filelock                  3.0.12                     py_0  \n",
      "flake8                    3.8.3                      py_0  \n",
      "flask                     1.1.2                      py_0  \n",
      "freetype                  2.10.2               hd328e21_0  \n",
      "fsspec                    0.7.4                      py_0  \n",
      "future                    0.18.2                   py37_1  \n",
      "get_terminal_size         1.0.0                h38e98db_0  \n",
      "gevent                    20.6.2           py37he774522_0  \n",
      "glob2                     0.7                        py_0  \n",
      "greenlet                  0.4.16           py37he774522_0  \n",
      "h5py                      2.10.0           py37h5e291fa_0  \n",
      "hdf5                      1.10.4               h7ebc959_0  \n",
      "heapdict                  1.0.1                      py_0  \n",
      "html5lib                  1.1                        py_0  \n",
      "hypothesis                5.18.3                     py_0  \n",
      "icc_rt                    2019.0.0             h0cc432a_1  \n",
      "icu                       58.2                 ha925a31_3  \n",
      "idna                      2.10                       py_0  \n",
      "imageio                   2.8.0                      py_0  \n",
      "imagesize                 1.2.0                      py_0  \n",
      "importlib-metadata        1.7.0                    py37_0  \n",
      "importlib_metadata        1.7.0                         0  \n",
      "intel-openmp              2020.1                      216  \n",
      "intervaltree              3.0.2                      py_0  \n",
      "ipykernel                 5.3.0            py37h5ca1d4c_0  \n",
      "ipython                   7.16.1           py37h5ca1d4c_0  \n",
      "ipython_genutils          0.2.0                    py37_0  \n",
      "ipywidgets                7.5.1                      py_0  \n",
      "isort                     4.3.21                   py37_0  \n",
      "itsdangerous              1.1.0                    py37_0  \n",
      "jdcal                     1.4.1                      py_0  \n",
      "jedi                      0.17.1                   py37_0  \n",
      "jinja2                    2.11.2                     py_0  \n",
      "joblib                    0.15.1                     py_0  \n",
      "jpeg                      9b                   hb83a4c4_2  \n",
      "json5                     0.9.5                      py_0  \n",
      "jsonschema                3.2.0                    py37_0  \n",
      "jupyter                   1.0.0                    py37_7  \n",
      "jupyter_client            6.1.3                      py_0  \n",
      "jupyter_console           6.1.0                      py_0  \n",
      "jupyter_core              4.6.3                    py37_0  \n",
      "jupyterlab                2.1.5                      py_0  \n",
      "jupyterlab_server         1.1.5                      py_0  \n",
      "keyring                   21.2.1                   py37_0  \n",
      "kiwisolver                1.2.0            py37h74a9793_0  \n",
      "krb5                      1.18.2               hc04afaa_0  \n",
      "lazy-object-proxy         1.5.0            py37he774522_0  \n",
      "libarchive                3.4.2                h5e25573_0  \n",
      "libcurl                   7.71.0               h2a8f88b_0  \n",
      "libiconv                  1.15                 h1df5818_7  \n",
      "liblief                   0.10.1               ha925a31_0  \n",
      "libllvm9                  9.0.1                h21ff451_0  \n",
      "libpng                    1.6.37               h2a8f88b_0  \n",
      "libsodium                 1.0.18               h62dcd97_0  \n",
      "libspatialindex           1.9.3                h33f27b4_0  \n",
      "libssh2                   1.9.0                h7a1dbc1_1  \n",
      "libtiff                   4.1.0                h56a325e_1  \n",
      "libxml2                   2.9.10               h464c3ec_1  \n",
      "libxslt                   1.1.34               he774522_0  \n",
      "linearmodels              4.17                     pypi_0    pypi\n",
      "llvmlite                  0.33.0           py37ha925a31_0  \n",
      "locket                    0.2.0                    py37_1  \n",
      "lxml                      4.5.1            py37h1350720_0  \n",
      "lz4-c                     1.9.2                h62dcd97_0  \n",
      "lzo                       2.10                 he774522_2  \n",
      "m2w64-gcc-libgfortran     5.3.0                         6  \n",
      "m2w64-gcc-libs            5.3.0                         7  \n",
      "m2w64-gcc-libs-core       5.3.0                         7  \n",
      "m2w64-gmp                 6.1.0                         2  \n",
      "m2w64-libwinpthread-git   5.0.0.4634.697f757               2  \n",
      "markupsafe                1.1.1            py37he774522_0  \n",
      "matplotlib                3.2.2                         0  \n",
      "matplotlib-base           3.2.2            py37h64f37c6_0  \n",
      "mccabe                    0.6.1                    py37_1  \n",
      "menuinst                  1.4.16           py37he774522_0  \n",
      "mistune                   0.8.4            py37he774522_0  \n",
      "mkl                       2020.1                      216  \n",
      "mkl-service               2.3.0            py37hb782905_0  \n",
      "mkl_fft                   1.1.0            py37h45dec08_0  \n",
      "mkl_random                1.1.1            py37h47e9c7a_0  \n",
      "mock                      4.0.2                      py_0  \n",
      "more-itertools            8.4.0                      py_0  \n",
      "mpmath                    1.1.0                    py37_0  \n",
      "msgpack-python            1.0.0            py37h74a9793_1  \n",
      "msys2-conda-epoch         20160418                      1  \n",
      "multipledispatch          0.6.0                    py37_0  \n",
      "mypy-extensions           0.4.3                    pypi_0    pypi\n",
      "navigator-updater         0.2.1                    py37_0  \n",
      "nbconvert                 5.5.0                      py_0  \n",
      "nbformat                  5.0.7                      py_0  \n",
      "networkx                  2.4                        py_0  \n",
      "nltk                      3.5                        py_0  \n",
      "nose                      1.3.7                    py37_2  \n",
      "notebook                  6.0.3                    py37_0  \n",
      "numba                     0.50.1           py37h47e9c7a_0  \n",
      "numexpr                   2.7.1            py37h25d0782_0  \n",
      "numpy                     1.18.5           py37h6530119_0  \n",
      "numpy-base                1.18.5           py37hc3f5095_0  \n",
      "numpydoc                  1.0.0                      py_0  \n",
      "olefile                   0.46                     py37_0  \n",
      "openpyxl                  3.0.3                      py_0  \n",
      "openssl                   1.1.1g               he774522_0  \n",
      "packaging                 20.4                       py_0  \n",
      "pandas                    1.0.5            py37h47e9c7a_0  \n",
      "pandoc                    2.9.2.1                       0  \n",
      "pandocfilters             1.4.2                    py37_1  \n",
      "paramiko                  2.7.1                      py_0  \n",
      "parso                     0.7.0                      py_0  \n",
      "partd                     1.1.0                      py_0  \n",
      "path                      13.1.0                   py37_0  \n",
      "path.py                   12.4.0                        0  \n",
      "pathlib2                  2.3.5                    py37_0  \n",
      "pathtools                 0.1.2                      py_1  \n",
      "patsy                     0.5.1                    py37_0  \n",
      "pefile                    2019.4.18                pypi_0    pypi\n",
      "pep8                      1.7.1                    py37_0  \n",
      "pexpect                   4.8.0                    py37_0  \n",
      "pickleshare               0.7.5                    py37_0  \n",
      "pillow                    7.1.2            py37hcc1f983_0  \n",
      "pip                       20.1.1                   pypi_0    pypi\n",
      "pkginfo                   1.5.0.1                  py37_0  \n",
      "pluggy                    0.13.1                   py37_0  \n",
      "ply                       3.11                     py37_0  \n",
      "powershell_shortcut       0.0.1                         2  \n",
      "prometheus_client         0.8.0                      py_0  \n",
      "prompt-toolkit            3.0.5                      py_0  \n",
      "prompt_toolkit            3.0.5                         0  \n",
      "property-cached           1.6.4                    pypi_0    pypi\n",
      "psutil                    5.7.0            py37he774522_0  \n",
      "py                        1.9.0                      py_0  \n",
      "py-lief                   0.10.1           py37ha925a31_0  \n",
      "pycodestyle               2.6.0                      py_0  \n",
      "pycosat                   0.6.3            py37he774522_0  \n",
      "pycparser                 2.20                       py_0  \n",
      "pycrypto                  2.6.1           py37he774522_10  \n",
      "pycurl                    7.43.0.5         py37h7a1dbc1_0  \n",
      "pydocstyle                5.0.2                      py_0  \n",
      "pyflakes                  2.2.0                      py_0  \n",
      "pygame                    1.9.6                    pypi_0    pypi\n",
      "pygments                  2.6.1                      py_0  \n",
      "pyinstaller               3.6                      pypi_0    pypi\n",
      "pylint                    2.4.4                    py37_0  \n",
      "pynacl                    1.4.0            py37h62dcd97_0  \n",
      "pynput                    1.6.8                    pypi_0    pypi\n",
      "pyodbc                    4.0.30           py37ha925a31_0  \n",
      "pyopenssl                 19.1.0                   py37_0  \n",
      "pyparsing                 2.4.7                      py_0  \n",
      "pyqt                      5.9.2            py37h6538335_2  \n",
      "pyreadline                2.1                      py37_1  \n",
      "pyrsistent                0.16.0           py37he774522_0  \n",
      "pysocks                   1.7.1                    py37_0  \n",
      "pytables                  3.6.1            py37h1da0976_0  \n",
      "pytest                    5.4.3                    py37_0  \n",
      "pytest-arraydiff          0.3              py37h39e3cac_0  \n",
      "pytest-astropy            0.8.0                      py_0  \n",
      "pytest-astropy-header     0.1.2                      py_0  \n",
      "pytest-doctestplus        0.7.0                      py_0  \n",
      "pytest-openfiles          0.5.0                      py_0  \n",
      "pytest-remotedata         0.3.2                    py37_0  \n",
      "python                    3.7.3                h8c8aaf0_1  \n",
      "python-dateutil           2.8.1                      py_0  \n",
      "python-jsonrpc-server     0.3.4                      py_0  \n",
      "python-language-server    0.33.3                   py37_0  \n",
      "python-libarchive-c       2.9                        py_0  \n",
      "pytz                      2020.1                     py_0  \n",
      "pywavelets                1.1.1            py37he774522_0  \n",
      "pywin32                   227              py37he774522_1  \n",
      "pywin32-ctypes            0.2.0                 py37_1000  \n",
      "pywinpty                  0.5.7                    py37_0  \n",
      "pyyaml                    5.3.1            py37he774522_1  \n",
      "pyzmq                     19.0.1           py37ha925a31_1  \n",
      "qdarkstyle                2.8.1                      py_0  \n",
      "qt                        5.9.7            vc14h73c81de_0  \n",
      "qtawesome                 0.7.2                      py_0  \n",
      "qtconsole                 4.7.5                      py_0  \n",
      "qtpy                      1.9.0                      py_0  \n",
      "regex                     2020.6.8         py37he774522_0  \n",
      "requests                  2.24.0                     py_0  \n",
      "rope                      0.17.0                     py_0  \n",
      "rtree                     0.9.4            py37h21ff451_1  \n",
      "ruamel_yaml               0.15.87          py37he774522_1  \n",
      "scikit-image              0.16.2           py37h47e9c7a_0  \n",
      "scikit-learn              0.23.1           py37h25d0782_0  \n",
      "scipy                     1.5.0            py37h9439919_0  \n",
      "seaborn                   0.10.1                     py_0  \n",
      "send2trash                1.5.0                    py37_0  \n",
      "setuptools                47.3.1                   py37_0  \n",
      "simplegeneric             0.8.1                    py37_2  \n",
      "singledispatch            3.4.0.3                  py37_0  \n",
      "sip                       4.19.8           py37h6538335_0  \n",
      "six                       1.15.0                     py_0  \n",
      "snappy                    1.1.8                h33f27b4_0  \n",
      "snowballstemmer           2.0.0                      py_0  \n",
      "sortedcollections         1.2.1                      py_0  \n",
      "sortedcontainers          2.2.2                      py_0  \n",
      "soupsieve                 2.0.1                      py_0  \n",
      "sphinx                    3.1.1                      py_0  \n",
      "sphinxcontrib             1.0                      py37_1  \n",
      "sphinxcontrib-applehelp   1.0.2                      py_0  \n",
      "sphinxcontrib-devhelp     1.0.2                      py_0  \n",
      "sphinxcontrib-htmlhelp    1.0.3                      py_0  \n",
      "sphinxcontrib-jsmath      1.0.1                      py_0  \n",
      "sphinxcontrib-qthelp      1.0.3                      py_0  \n",
      "sphinxcontrib-serializinghtml 1.1.4                      py_0  \n",
      "sphinxcontrib-websupport  1.2.3                      py_0  \n",
      "spyder                    3.3.6                    py37_0  \n",
      "spyder-kernels            0.5.1                    py37_0  \n",
      "sqlalchemy                1.3.18           py37he774522_0  \n",
      "sqlite                    3.32.3               h2a8f88b_0  \n",
      "statsmodels               0.11.1           py37he774522_0  \n",
      "sympy                     1.6                      py37_0  \n",
      "tbb                       2020.0               h74a9793_0  \n",
      "tblib                     1.6.0                      py_0  \n",
      "terminado                 0.8.3                    py37_0  \n",
      "testpath                  0.4.4                      py_0  \n",
      "threadpoolctl             2.1.0              pyh5ca1d4c_0  \n",
      "tk                        8.6.10               he774522_0  \n",
      "toml                      0.10.1                     py_0  \n",
      "toolz                     0.10.0                     py_0  \n",
      "tornado                   6.0.4            py37he774522_1  \n",
      "tqdm                      4.47.0                     py_0  \n",
      "traitlets                 4.3.3                    py37_0  \n",
      "typing_extensions         3.7.4.2                    py_0  \n",
      "ujson                     1.35             py37hfa6e2cd_0  \n",
      "unicodecsv                0.14.1                   py37_0  \n",
      "urllib3                   1.25.9                     py_0  \n",
      "vc                        14.1                 h0510ff6_4  \n",
      "vs2015_runtime            14.16.27012          hf0eaf9b_2  \n",
      "watchdog                  0.10.3                   py37_0  \n",
      "wcwidth                   0.2.5                      py_0  \n",
      "webencodings              0.5.1                    py37_1  \n",
      "werkzeug                  1.0.1                      py_0  \n",
      "wheel                     0.34.2                   py37_0  \n",
      "widgetsnbextension        3.5.1                    py37_0  \n",
      "win_inet_pton             1.1.0                    py37_0  \n",
      "win_unicode_console       0.5                      py37_0  \n",
      "wincertstore              0.2                      py37_0  \n",
      "winpty                    0.4.3                         4  \n",
      "wrapt                     1.12.1           py37he774522_1  \n",
      "xlrd                      1.2.0                    py37_0  \n",
      "xlsxwriter                1.2.9                      py_0  \n",
      "xlwings                   0.19.4                   py37_0  \n",
      "xlwt                      1.3.0                    py37_0  \n",
      "xmltodict                 0.12.0                     py_0  \n",
      "xz                        5.2.5                h62dcd97_0  \n",
      "yaml                      0.2.5                he774522_0  \n",
      "yapf                      0.30.0                     py_0  \n",
      "zeromq                    4.3.2                ha925a31_2  \n",
      "zict                      2.0.0                      py_0  \n",
      "zipp                      3.1.0                      py_0  \n",
      "zlib                      1.2.11               h62dcd97_4  \n",
      "zope                      1.0                      py37_1  \n",
      "zope.event                4.4                      py37_0  \n",
      "zope.interface            4.7.1            py37he774522_0  \n",
      "zstd                      1.4.4                ha9fde0e_3  \n"
     ]
    },
    {
     "data": {
      "text/plain": [
       "'1.3.18'"
      ]
     },
     "execution_count": 2,
     "metadata": {},
     "output_type": "execute_result"
    }
   ],
   "source": [
    "import sqlalchemy\n",
    "sqlalchemy.__version__"
   ]
  },
  {
   "cell_type": "code",
   "execution_count": 6,
   "metadata": {},
   "outputs": [],
   "source": [
    "from sqlalchemy import create_engine\n",
    "\n",
    "engine = create_engine('sqlite:///L9SQLAlchemy.db', echo=True)"
   ]
  },
  {
   "cell_type": "code",
   "execution_count": 7,
   "metadata": {},
   "outputs": [],
   "source": [
    "from sqlalchemy.ext.declarative import declarative_base\n",
    "\n",
    "Base = declarative_base()"
   ]
  },
  {
   "cell_type": "code",
   "execution_count": 8,
   "metadata": {},
   "outputs": [],
   "source": [
    "from sqlalchemy import Column, Integer, String\n",
    "from sqlalchemy import Sequence\n",
    "\n",
    "class Player(Base):\n",
    "    __tablename__ = 'players'\n",
    "    id = Column(Integer,Sequence('player_id_seq'), primary_key=True)\n",
    "    name = Column(String(50))\n",
    "    fullname = Column(String)\n",
    "    nickname = Column(String)\n",
    "    \n",
    "    def __repr__(self):\n",
    "        return \"<Player(name = '%s', fullname = '%s', nickname = '%s')>\"% (\n",
    "            self.name, self.fullname, self.nickname)"
   ]
  },
  {
   "cell_type": "code",
   "execution_count": 9,
   "metadata": {},
   "outputs": [
    {
     "data": {
      "text/plain": [
       "Table('players', MetaData(bind=None), Column('id', Integer(), table=<players>, primary_key=True, nullable=False, default=Sequence('player_id_seq', metadata=MetaData(bind=None))), Column('name', String(length=50), table=<players>), Column('fullname', String(), table=<players>), Column('nickname', String(), table=<players>), schema=None)"
      ]
     },
     "execution_count": 9,
     "metadata": {},
     "output_type": "execute_result"
    }
   ],
   "source": [
    "Player.__table__"
   ]
  },
  {
   "cell_type": "code",
   "execution_count": 10,
   "metadata": {},
   "outputs": [
    {
     "name": "stdout",
     "output_type": "stream",
     "text": [
      "2020-07-02 16:32:25,347 INFO sqlalchemy.engine.base.Engine SELECT CAST('test plain returns' AS VARCHAR(60)) AS anon_1\n",
      "2020-07-02 16:32:25,360 INFO sqlalchemy.engine.base.Engine ()\n",
      "2020-07-02 16:32:25,364 INFO sqlalchemy.engine.base.Engine SELECT CAST('test unicode returns' AS VARCHAR(60)) AS anon_1\n",
      "2020-07-02 16:32:25,367 INFO sqlalchemy.engine.base.Engine ()\n",
      "2020-07-02 16:32:25,373 INFO sqlalchemy.engine.base.Engine PRAGMA main.table_info(\"players\")\n",
      "2020-07-02 16:32:25,376 INFO sqlalchemy.engine.base.Engine ()\n",
      "2020-07-02 16:32:25,382 INFO sqlalchemy.engine.base.Engine PRAGMA temp.table_info(\"players\")\n",
      "2020-07-02 16:32:25,385 INFO sqlalchemy.engine.base.Engine ()\n",
      "2020-07-02 16:32:25,391 INFO sqlalchemy.engine.base.Engine \n",
      "CREATE TABLE players (\n",
      "\tid INTEGER NOT NULL, \n",
      "\tname VARCHAR(50), \n",
      "\tfullname VARCHAR, \n",
      "\tnickname VARCHAR, \n",
      "\tPRIMARY KEY (id)\n",
      ")\n",
      "\n",
      "\n",
      "2020-07-02 16:32:25,394 INFO sqlalchemy.engine.base.Engine ()\n",
      "2020-07-02 16:32:25,586 INFO sqlalchemy.engine.base.Engine COMMIT\n"
     ]
    }
   ],
   "source": [
    "Base.metadata.create_all(engine)"
   ]
  },
  {
   "cell_type": "markdown",
   "metadata": {},
   "source": [
    "มาเป็น SQL"
   ]
  },
  {
   "cell_type": "code",
   "execution_count": 11,
   "metadata": {},
   "outputs": [
    {
     "data": {
      "text/plain": [
       "<Player(name = 'Pailin', fullname = 'Pailin Limn', nickname = 'Linlin')>"
      ]
     },
     "execution_count": 11,
     "metadata": {},
     "output_type": "execute_result"
    }
   ],
   "source": [
    "pailin = Player(name='Pailin', fullname='Pailin Limn', nickname='Linlin')\n",
    "pailin"
   ]
  },
  {
   "cell_type": "code",
   "execution_count": 12,
   "metadata": {},
   "outputs": [
    {
     "data": {
      "text/plain": [
       "sessionmaker(class_='Session', bind=Engine(sqlite:///L9SQLAlchemy.db), autoflush=True, autocommit=False, expire_on_commit=True)"
      ]
     },
     "execution_count": 12,
     "metadata": {},
     "output_type": "execute_result"
    }
   ],
   "source": [
    "from sqlalchemy.orm import sessionmaker\n",
    "\n",
    "Session = sessionmaker(bind=engine)\n",
    "Session"
   ]
  },
  {
   "cell_type": "code",
   "execution_count": 13,
   "metadata": {},
   "outputs": [
    {
     "data": {
      "text/plain": [
       "<sqlalchemy.orm.session.Session at 0x1f170a8af28>"
      ]
     },
     "execution_count": 13,
     "metadata": {},
     "output_type": "execute_result"
    }
   ],
   "source": [
    "session = Session()\n",
    "session"
   ]
  },
  {
   "cell_type": "code",
   "execution_count": 14,
   "metadata": {},
   "outputs": [],
   "source": [
    "session.add(pailin)"
   ]
  },
  {
   "cell_type": "code",
   "execution_count": 15,
   "metadata": {},
   "outputs": [
    {
     "name": "stdout",
     "output_type": "stream",
     "text": [
      "2020-07-02 16:32:33,141 INFO sqlalchemy.engine.base.Engine BEGIN (implicit)\n",
      "2020-07-02 16:32:33,149 INFO sqlalchemy.engine.base.Engine INSERT INTO players (name, fullname, nickname) VALUES (?, ?, ?)\n",
      "2020-07-02 16:32:33,152 INFO sqlalchemy.engine.base.Engine ('Pailin', 'Pailin Limn', 'Linlin')\n",
      "2020-07-02 16:32:33,187 INFO sqlalchemy.engine.base.Engine SELECT players.id AS players_id, players.name AS players_name, players.fullname AS players_fullname, players.nickname AS players_nickname \n",
      "FROM players \n",
      "WHERE players.name = ?\n",
      " LIMIT ? OFFSET ?\n",
      "2020-07-02 16:32:33,195 INFO sqlalchemy.engine.base.Engine ('Pailin', 1, 0)\n"
     ]
    },
    {
     "data": {
      "text/plain": [
       "<Player(name = 'Pailin', fullname = 'Pailin Limn', nickname = 'Linlin')>"
      ]
     },
     "execution_count": 15,
     "metadata": {},
     "output_type": "execute_result"
    }
   ],
   "source": [
    "all_player = session.query(Player).filter_by(name='Pailin').first()\n",
    "all_player"
   ]
  },
  {
   "cell_type": "code",
   "execution_count": 16,
   "metadata": {},
   "outputs": [
    {
     "name": "stdout",
     "output_type": "stream",
     "text": [
      "2020-07-02 16:32:44,409 INFO sqlalchemy.engine.base.Engine COMMIT\n"
     ]
    }
   ],
   "source": [
    "session.commit()"
   ]
  },
  {
   "cell_type": "code",
   "execution_count": 17,
   "metadata": {},
   "outputs": [],
   "source": [
    "session.close()"
   ]
  },
  {
   "cell_type": "code",
   "execution_count": null,
   "metadata": {},
   "outputs": [],
   "source": [
    "class Parent(Base):\n",
    "    __tablename__ = 'parent'\n",
    "    id = Column(Integer, primary_key=True)\n",
    "    child_id = Column(Integer, ForeignKey('child.id'))\n",
    "    child = relationship(\"Child\")\n",
    "\n",
    "class Child(Base):\n",
    "    __tablename__ = 'child'\n",
    "    id = Column(Integer, primary_key=True)"
   ]
  }
 ],
 "metadata": {
  "kernelspec": {
   "display_name": "Python 3",
   "language": "python",
   "name": "python3"
  },
  "language_info": {
   "codemirror_mode": {
    "name": "ipython",
    "version": 3
   },
   "file_extension": ".py",
   "mimetype": "text/x-python",
   "name": "python",
   "nbconvert_exporter": "python",
   "pygments_lexer": "ipython3",
   "version": "3.7.3"
  }
 },
 "nbformat": 4,
 "nbformat_minor": 4
}
