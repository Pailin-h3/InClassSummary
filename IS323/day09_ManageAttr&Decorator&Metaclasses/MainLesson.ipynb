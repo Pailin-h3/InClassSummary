{
 "cells": [
  {
   "cell_type": "markdown",
   "metadata": {},
   "source": [
    "# Managed Attribute"
   ]
  },
  {
   "cell_type": "markdown",
   "metadata": {},
   "source": [
    "java style"
   ]
  },
  {
   "cell_type": "code",
   "execution_count": 10,
   "metadata": {},
   "outputs": [],
   "source": [
    "class Person:\n",
    "    __name = ''\n",
    "    def getName(self):\n",
    "        if len(self.__name)<1:\n",
    "            raise TypeError(\"Cannot fetch name\")\n",
    "        else:\n",
    "            return self.__name\n",
    "    def setName(self,value):\n",
    "        if not isinstance(value, str):\n",
    "            raise TypeError(\"Cannot change name\")\n",
    "        else:\n",
    "            self.__name = value\n",
    "            \n",
    "person = Person()\n",
    "person.setName('Pailin')"
   ]
  },
  {
   "cell_type": "code",
   "execution_count": 11,
   "metadata": {},
   "outputs": [
    {
     "data": {
      "text/plain": [
       "'Pailin'"
      ]
     },
     "execution_count": 11,
     "metadata": {},
     "output_type": "execute_result"
    }
   ],
   "source": [
    "person.getName()"
   ]
  },
  {
   "cell_type": "markdown",
   "metadata": {},
   "source": [
    "python style\n",
    "- ใช้ function แบบไม่ต้องใช้ชื่อ function"
   ]
  },
  {
   "cell_type": "code",
   "execution_count": 13,
   "metadata": {},
   "outputs": [],
   "source": [
    "class Person:\n",
    "    def __init__(self, name):\n",
    "        self.__name = name\n",
    "    def getName(self):\n",
    "        print(\"Fetch...\")\n",
    "        return self.__name\n",
    "    def setName(self, name):\n",
    "        print(\"Change...\")\n",
    "        self.__name = name\n",
    "    def delName(self):\n",
    "        print(\"Remove...\")\n",
    "        del self.__name\n",
    "    \n",
    "    name = property(getName, setName, delName, \"name property docs\")"
   ]
  },
  {
   "cell_type": "code",
   "execution_count": 14,
   "metadata": {},
   "outputs": [
    {
     "name": "stdout",
     "output_type": "stream",
     "text": [
      "Fetch...\n"
     ]
    },
    {
     "data": {
      "text/plain": [
       "'Pailin Lim'"
      ]
     },
     "execution_count": 14,
     "metadata": {},
     "output_type": "execute_result"
    }
   ],
   "source": [
    "pailin = Person('Pailin Lim')\n",
    "\n",
    "pailin.name"
   ]
  },
  {
   "cell_type": "code",
   "execution_count": 15,
   "metadata": {},
   "outputs": [
    {
     "data": {
      "text/plain": [
       "mappingproxy({'__module__': '__main__',\n",
       "              '__init__': <function __main__.Person.__init__(self, name)>,\n",
       "              'getName': <function __main__.Person.getName(self)>,\n",
       "              'setName': <function __main__.Person.setName(self, name)>,\n",
       "              'delName': <function __main__.Person.delName(self)>,\n",
       "              'name': <property at 0x1aa4627a138>,\n",
       "              '__dict__': <attribute '__dict__' of 'Person' objects>,\n",
       "              '__weakref__': <attribute '__weakref__' of 'Person' objects>,\n",
       "              '__doc__': None})"
      ]
     },
     "execution_count": 15,
     "metadata": {},
     "output_type": "execute_result"
    }
   ],
   "source": [
    "Person.__dict__"
   ]
  },
  {
   "cell_type": "code",
   "execution_count": 16,
   "metadata": {},
   "outputs": [
    {
     "name": "stdout",
     "output_type": "stream",
     "text": [
      "Change...\n"
     ]
    }
   ],
   "source": [
    "pailin.name = 'Linlin'"
   ]
  },
  {
   "cell_type": "code",
   "execution_count": 17,
   "metadata": {},
   "outputs": [
    {
     "name": "stdout",
     "output_type": "stream",
     "text": [
      "Remove...\n"
     ]
    }
   ],
   "source": [
    "del pailin.name"
   ]
  },
  {
   "cell_type": "code",
   "execution_count": 18,
   "metadata": {},
   "outputs": [
    {
     "name": "stdout",
     "output_type": "stream",
     "text": [
      "Fetch...\n"
     ]
    },
    {
     "data": {
      "text/plain": [
       "'Winai'"
      ]
     },
     "execution_count": 18,
     "metadata": {},
     "output_type": "execute_result"
    }
   ],
   "source": [
    "# inherit ได้ด้วย!!!\n",
    "class Man(Person):\n",
    "    pass\n",
    "\n",
    "winai = Man(\"Winai\")\n",
    "winai.name"
   ]
  },
  {
   "cell_type": "code",
   "execution_count": 19,
   "metadata": {},
   "outputs": [],
   "source": [
    "class PropSquare:\n",
    "    def __init__(self, start):\n",
    "        self.value = start\n",
    "    def getX(self):\n",
    "        return self.value ** 2\n",
    "    def setX(self, value):\n",
    "        self.value = value\n",
    "        \n",
    "    X = property(getX, setX)\n",
    "\n",
    "P = PropSquare(3)\n",
    "Q = PropSquare(32)"
   ]
  },
  {
   "cell_type": "code",
   "execution_count": 20,
   "metadata": {},
   "outputs": [
    {
     "data": {
      "text/plain": [
       "9"
      ]
     },
     "execution_count": 20,
     "metadata": {},
     "output_type": "execute_result"
    }
   ],
   "source": [
    "P.X    # ตัวแปรในอากาศ"
   ]
  },
  {
   "cell_type": "code",
   "execution_count": 21,
   "metadata": {},
   "outputs": [
    {
     "data": {
      "text/plain": [
       "3"
      ]
     },
     "execution_count": 21,
     "metadata": {},
     "output_type": "execute_result"
    }
   ],
   "source": [
    "P.value"
   ]
  },
  {
   "cell_type": "code",
   "execution_count": 23,
   "metadata": {},
   "outputs": [],
   "source": [
    "class Person:\n",
    "    def __init__(self, name):\n",
    "        self.__name = name\n",
    "    @property    # name = property(name)\n",
    "    def name(self):\n",
    "        'name property docs'\n",
    "        print('Fetch...')\n",
    "        return self.__name\n",
    "    @name.setter    # name = name.setter(setName)\n",
    "    def setName(self,value):\n",
    "        print('Change...')\n",
    "        self.__name = value\n",
    "    @name.deleter    # name = name.deleter(delName)\n",
    "    def delName(self):\n",
    "        print('Remove...')\n",
    "        del self.__name"
   ]
  },
  {
   "cell_type": "code",
   "execution_count": 25,
   "metadata": {},
   "outputs": [
    {
     "name": "stdout",
     "output_type": "stream",
     "text": [
      "Fetch...\n"
     ]
    },
    {
     "data": {
      "text/plain": [
       "'Pailin'"
      ]
     },
     "execution_count": 25,
     "metadata": {},
     "output_type": "execute_result"
    }
   ],
   "source": [
    "pailin = Person('Pailin')\n",
    "pailin.name"
   ]
  },
  {
   "cell_type": "markdown",
   "metadata": {},
   "source": [
    "# Decorator\n",
    "- ขอแปะหน่อย\n",
    "    - เอาไว้กันการเข้าถึงโดยตรง มาเรียกผ่าน Decorator แทน"
   ]
  },
  {
   "cell_type": "code",
   "execution_count": 51,
   "metadata": {},
   "outputs": [],
   "source": [
    "instances = {}\n",
    "\n",
    "def singleton(aClass):\n",
    "    def onCall(*args, **kwargs):\n",
    "        if aClass not in instances:    # เก็บแค่ 1 class ถ้าสร้างซ้ำจะไม่สร้าง\n",
    "            instances[aClass] = aClass(*args, **kwargs)\n",
    "        return instances[aClass]\n",
    "    return onCall\n",
    "\n",
    "@singleton\n",
    "class Person:\n",
    "    def __init__(self, name, hours, rate):\n",
    "        self.name = name\n",
    "        self.hours = hours\n",
    "        self.rate = rate\n",
    "    def pay(self):\n",
    "        return self.hours * self.rate\n",
    "    \n",
    "@singleton\n",
    "class Spam:\n",
    "    def __init__(self, val):\n",
    "        self.attr = val"
   ]
  },
  {
   "cell_type": "code",
   "execution_count": 52,
   "metadata": {},
   "outputs": [
    {
     "data": {
      "text/plain": [
       "{__main__.Person: <__main__.Person at 0x1aa462a67f0>}"
      ]
     },
     "execution_count": 52,
     "metadata": {},
     "output_type": "execute_result"
    }
   ],
   "source": [
    "w = Person('lin',20,300)\n",
    "i = Person('winai',8,200)\n",
    "instances"
   ]
  },
  {
   "cell_type": "code",
   "execution_count": 53,
   "metadata": {},
   "outputs": [
    {
     "data": {
      "text/plain": [
       "{__main__.Person: <__main__.Person at 0x1aa462a67f0>,\n",
       " __main__.Spam: <__main__.Spam at 0x1aa462a6048>}"
      ]
     },
     "execution_count": 53,
     "metadata": {},
     "output_type": "execute_result"
    }
   ],
   "source": [
    "spam = Spam(6)\n",
    "instances"
   ]
  },
  {
   "cell_type": "code",
   "execution_count": 54,
   "metadata": {},
   "outputs": [
    {
     "data": {
      "text/plain": [
       "{__main__.Person: <__main__.Person at 0x1aa462a67f0>,\n",
       " __main__.Spam: <__main__.Spam at 0x1aa462a6048>}"
      ]
     },
     "execution_count": 54,
     "metadata": {},
     "output_type": "execute_result"
    }
   ],
   "source": [
    "w = Person('lin',20,300)\n",
    "instances"
   ]
  },
  {
   "cell_type": "code",
   "execution_count": 56,
   "metadata": {},
   "outputs": [
    {
     "name": "stdout",
     "output_type": "stream",
     "text": [
      "{'name': 'lin', 'hours': 20, 'rate': 300}\n",
      "{'name': 'lin', 'hours': 20, 'rate': 300}\n"
     ]
    }
   ],
   "source": [
    "print(i.__dict__)\n",
    "print(w.__dict__)\n",
    "# สร้าง instance ได้ตัวเดียว => winai หาย"
   ]
  },
  {
   "cell_type": "markdown",
   "metadata": {},
   "source": [
    "# Metaclasses"
   ]
  },
  {
   "cell_type": "code",
   "execution_count": 58,
   "metadata": {},
   "outputs": [
    {
     "name": "stdout",
     "output_type": "stream",
     "text": [
      "Making Class\n",
      "In MetaOne.new: \n",
      "<class '__main__.MetaOne'>\n",
      "Spam\n",
      "(<class '__main__.Eggs'>,)\n",
      "{'__module__': '__main__', '__qualname__': 'Spam', 'data': 1, 'meth': <function Spam.meth at 0x000001AA4628FB70>}\n"
     ]
    }
   ],
   "source": [
    "class MetaOne(type):\n",
    "    def __new__(meta, classname, supers, classdict):    # เรียกเมื่อมีคน inherite\n",
    "        print(\"In MetaOne.new: \", meta, classname, supers, classdict, sep='\\n')\n",
    "        return type.__new__(meta, classname, supers, classdict)\n",
    "    \n",
    "class Eggs:\n",
    "    pass\n",
    "\n",
    "print('Making Class')\n",
    "class Spam(Eggs, metaclass=MetaOne):\n",
    "    data = 1\n",
    "    def meth(self, arg):\n",
    "        return self.data + arg"
   ]
  },
  {
   "cell_type": "code",
   "execution_count": 59,
   "metadata": {},
   "outputs": [
    {
     "name": "stdout",
     "output_type": "stream",
     "text": [
      "Making Instance\n",
      "data:  1 3\n"
     ]
    }
   ],
   "source": [
    "print(\"Making Instance\")\n",
    "x = Spam()\n",
    "print('data: ', x.data, x.meth(2))"
   ]
  },
  {
   "cell_type": "code",
   "execution_count": 63,
   "metadata": {},
   "outputs": [
    {
     "name": "stdout",
     "output_type": "stream",
     "text": [
      "<class '__main__.Spam'>\n",
      "<class '__main__.MetaOne'>\n"
     ]
    }
   ],
   "source": [
    "print(x.__class__)\n",
    "print(x.__class__.__class__)"
   ]
  },
  {
   "cell_type": "markdown",
   "metadata": {},
   "source": [
    "เข้าถึง attr ใน class จาก instance ไม่ได้"
   ]
  },
  {
   "cell_type": "code",
   "execution_count": null,
   "metadata": {},
   "outputs": [],
   "source": [
    "class A(type):\n",
    "    attr = 1\n",
    "    \n",
    "class B(metaclass=A):\n",
    "    pass\n",
    "\n",
    "I = B()\n",
    "B.attr"
   ]
  },
  {
   "cell_type": "code",
   "execution_count": 65,
   "metadata": {},
   "outputs": [
    {
     "ename": "AttributeError",
     "evalue": "'B' object has no attribute 'attr'",
     "output_type": "error",
     "traceback": [
      "\u001b[1;31m---------------------------------------------------------------------------\u001b[0m",
      "\u001b[1;31mAttributeError\u001b[0m                            Traceback (most recent call last)",
      "\u001b[1;32m<ipython-input-65-3a1e9156cedd>\u001b[0m in \u001b[0;36m<module>\u001b[1;34m\u001b[0m\n\u001b[1;32m----> 1\u001b[1;33m \u001b[0mI\u001b[0m\u001b[1;33m.\u001b[0m\u001b[0mattr\u001b[0m\u001b[1;33m\u001b[0m\u001b[1;33m\u001b[0m\u001b[0m\n\u001b[0m",
      "\u001b[1;31mAttributeError\u001b[0m: 'B' object has no attribute 'attr'"
     ]
    }
   ],
   "source": [
    "I.attr"
   ]
  },
  {
   "cell_type": "code",
   "execution_count": 66,
   "metadata": {},
   "outputs": [
    {
     "data": {
      "text/plain": [
       "1"
      ]
     },
     "execution_count": 66,
     "metadata": {},
     "output_type": "execute_result"
    }
   ],
   "source": [
    "class A:\n",
    "    attr = 1\n",
    "    \n",
    "class B(A):\n",
    "    pass\n",
    "\n",
    "I = B()\n",
    "B.attr"
   ]
  },
  {
   "cell_type": "code",
   "execution_count": 67,
   "metadata": {},
   "outputs": [
    {
     "data": {
      "text/plain": [
       "1"
      ]
     },
     "execution_count": 67,
     "metadata": {},
     "output_type": "execute_result"
    }
   ],
   "source": [
    "I.attr"
   ]
  },
  {
   "cell_type": "code",
   "execution_count": null,
   "metadata": {},
   "outputs": [],
   "source": []
  }
 ],
 "metadata": {
  "kernelspec": {
   "display_name": "Python 3",
   "language": "python",
   "name": "python3"
  },
  "language_info": {
   "codemirror_mode": {
    "name": "ipython",
    "version": 3
   },
   "file_extension": ".py",
   "mimetype": "text/x-python",
   "name": "python",
   "nbconvert_exporter": "python",
   "pygments_lexer": "ipython3",
   "version": "3.7.3"
  }
 },
 "nbformat": 4,
 "nbformat_minor": 4
}
