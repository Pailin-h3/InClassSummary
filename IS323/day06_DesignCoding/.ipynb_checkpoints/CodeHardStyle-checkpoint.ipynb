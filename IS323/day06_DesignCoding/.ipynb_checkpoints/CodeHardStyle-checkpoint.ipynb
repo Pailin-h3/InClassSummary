{
 "cells": [
  {
   "cell_type": "code",
   "execution_count": 8,
   "metadata": {},
   "outputs": [
    {
     "ename": "TypeError",
     "evalue": "meth() missing 2 required positional arguments: 'y' and 'z'",
     "output_type": "error",
     "traceback": [
      "\u001b[1;31m---------------------------------------------------------------------------\u001b[0m",
      "\u001b[1;31mTypeError\u001b[0m                                 Traceback (most recent call last)",
      "\u001b[1;32m<ipython-input-8-c6b7fbb62040>\u001b[0m in \u001b[0;36m<module>\u001b[1;34m\u001b[0m\n\u001b[0;32m      7\u001b[0m \u001b[0mc\u001b[0m \u001b[1;33m=\u001b[0m \u001b[0mC\u001b[0m\u001b[1;33m(\u001b[0m\u001b[1;33m)\u001b[0m\u001b[1;33m\u001b[0m\u001b[1;33m\u001b[0m\u001b[0m\n\u001b[0;32m      8\u001b[0m \u001b[1;33m\u001b[0m\u001b[0m\n\u001b[1;32m----> 9\u001b[1;33m \u001b[0mc\u001b[0m\u001b[1;33m.\u001b[0m\u001b[0mmeth\u001b[0m\u001b[1;33m(\u001b[0m\u001b[1;36m1\u001b[0m\u001b[1;33m)\u001b[0m\u001b[1;33m\u001b[0m\u001b[1;33m\u001b[0m\u001b[0m\n\u001b[0m",
      "\u001b[1;31mTypeError\u001b[0m: meth() missing 2 required positional arguments: 'y' and 'z'"
     ]
    }
   ],
   "source": [
    "class C:    \n",
    "    def meth(self, x):\n",
    "        print(x)\n",
    "    def meth(self, x,y,z):\n",
    "        print(x,y,z)\n",
    "    \n",
    "c = C()\n",
    "\n",
    "c.meth(1)"
   ]
  },
  {
   "cell_type": "markdown",
   "metadata": {},
   "source": [
    "เขียน method ทับกันไม่ได้นะคร้าบบ (Java เขียนได้ Python ไม่ได้)"
   ]
  },
  {
   "cell_type": "markdown",
   "metadata": {},
   "source": [
    "ทำแบบนี้แทน"
   ]
  },
  {
   "cell_type": "code",
   "execution_count": 9,
   "metadata": {},
   "outputs": [
    {
     "name": "stdout",
     "output_type": "stream",
     "text": [
      "(15, 'is')\n"
     ]
    }
   ],
   "source": [
    "class C:\n",
    "    def meth(self, *args):\n",
    "        print(args)\n",
    "        \n",
    "c = C()\n",
    "c.meth(15,'is')"
   ]
  },
  {
   "cell_type": "markdown",
   "metadata": {},
   "source": [
    "# ความสัมพันธ์ของ class แบบต่างๆ (Compostion)\n",
    " Has -> คล้ายๆ foreignkey"
   ]
  },
  {
   "cell_type": "code",
   "execution_count": 13,
   "metadata": {},
   "outputs": [],
   "source": [
    "class Author:\n",
    "    name = ''\n",
    "    age = ''\n",
    "    signature = ''\n",
    "    writtenBooks = []\n",
    "    \n",
    "class Book:\n",
    "    title = ''\n",
    "    year = 2020\n",
    "    publisher = ''\n",
    "    page = 100\n",
    "    \n",
    "ongsa = Author()\n",
    "\n",
    "novel = Book()\n",
    "novel.title = 'Ongsa\\'s first novel'\n",
    "\n",
    "ongsa.writtenBooks.append(novel)"
   ]
  },
  {
   "cell_type": "markdown",
   "metadata": {},
   "source": [
    "Auther HAS A Book"
   ]
  },
  {
   "cell_type": "code",
   "execution_count": 14,
   "metadata": {},
   "outputs": [
    {
     "data": {
      "text/plain": [
       "\"Ongsa's first novel\""
      ]
     },
     "execution_count": 14,
     "metadata": {},
     "output_type": "execute_result"
    }
   ],
   "source": [
    "ongsa.writtenBooks[0].title"
   ]
  },
  {
   "cell_type": "markdown",
   "metadata": {},
   "source": [
    "Is a -> ย่อยประเภทอะแหละ"
   ]
  },
  {
   "cell_type": "code",
   "execution_count": 16,
   "metadata": {},
   "outputs": [],
   "source": [
    "class TextBook(Book):\n",
    "    editor = ''\n",
    "    \n",
    "pailinTextBook = TextBook()"
   ]
  },
  {
   "cell_type": "markdown",
   "metadata": {},
   "source": [
    "TextBook IS A Book"
   ]
  },
  {
   "cell_type": "markdown",
   "metadata": {},
   "source": [
    "# Psudo Private Code"
   ]
  },
  {
   "cell_type": "code",
   "execution_count": 29,
   "metadata": {},
   "outputs": [
    {
     "name": "stdout",
     "output_type": "stream",
     "text": [
      "88\n",
      "99\n",
      "99\n"
     ]
    }
   ],
   "source": [
    "class C1:\n",
    "    def meth1(self):\n",
    "        self.X = 88\n",
    "    def meth2(self):\n",
    "        print(self.X)\n",
    "        \n",
    "class C2:\n",
    "    def metha(self):\n",
    "        self.X = 99\n",
    "    def methb(self):\n",
    "        print(self.X)\n",
    "        \n",
    "# ตั้งชื่อตัวแปรซ้ำกัน\n",
    "class C3(C1,C2):\n",
    "    pass\n",
    "\n",
    "myobj = C3()\n",
    "\n",
    "\n",
    "myobj.meth1(); myobj.meth2()\n",
    "myobj.metha(); myobj.methb()\n",
    "myobj.meth2()"
   ]
  },
  {
   "cell_type": "code",
   "execution_count": 30,
   "metadata": {},
   "outputs": [
    {
     "data": {
      "text/plain": [
       "99"
      ]
     },
     "execution_count": 30,
     "metadata": {},
     "output_type": "execute_result"
    }
   ],
   "source": [
    "myobj.X"
   ]
  },
  {
   "cell_type": "markdown",
   "metadata": {},
   "source": [
    "จะเขียนทับกันเอง"
   ]
  },
  {
   "cell_type": "code",
   "execution_count": 31,
   "metadata": {},
   "outputs": [
    {
     "name": "stdout",
     "output_type": "stream",
     "text": [
      "88\n",
      "99\n",
      "88\n"
     ]
    }
   ],
   "source": [
    "class C1:\n",
    "    def meth1(self):\n",
    "        self.__X = 88\n",
    "    def meth2(self):\n",
    "        print(self.__X)\n",
    "        \n",
    "class C2:\n",
    "    def metha(self):\n",
    "        self.__X = 99\n",
    "    def methb(self):\n",
    "        print(self.__X)\n",
    "        \n",
    "# ตั้งชื่อตัวแปรซ้ำกัน\n",
    "class C3(C1,C2):\n",
    "    pass\n",
    "\n",
    "myobj = C3()\n",
    "\n",
    "\n",
    "myobj.meth1(); myobj.meth2()\n",
    "myobj.metha(); myobj.methb()\n",
    "myobj.meth2()"
   ]
  },
  {
   "cell_type": "markdown",
   "metadata": {},
   "source": [
    "- ใส่ __ หน้าตัวแปร จะไม่ทับกัน -> เป็น Psudo Private\n",
    "- ไม่ห้ามเขียนทับ แต่แยกตัวกันได้ (เข้าถึงยากขึ้น)\n",
    "- มีค่าเท่ากับ _ชื่อคลาส__ชื่อตัวแปร"
   ]
  },
  {
   "cell_type": "code",
   "execution_count": 32,
   "metadata": {},
   "outputs": [
    {
     "data": {
      "text/plain": [
       "88"
      ]
     },
     "execution_count": 32,
     "metadata": {},
     "output_type": "execute_result"
    }
   ],
   "source": [
    "myobj._C1__X"
   ]
  },
  {
   "cell_type": "code",
   "execution_count": 33,
   "metadata": {},
   "outputs": [
    {
     "data": {
      "text/plain": [
       "99"
      ]
     },
     "execution_count": 33,
     "metadata": {},
     "output_type": "execute_result"
    }
   ],
   "source": [
    "myobj._C2__X"
   ]
  },
  {
   "cell_type": "code",
   "execution_count": 34,
   "metadata": {},
   "outputs": [
    {
     "ename": "AttributeError",
     "evalue": "'C3' object has no attribute '__X'",
     "output_type": "error",
     "traceback": [
      "\u001b[1;31m---------------------------------------------------------------------------\u001b[0m",
      "\u001b[1;31mAttributeError\u001b[0m                            Traceback (most recent call last)",
      "\u001b[1;32m<ipython-input-34-8c12d9f66957>\u001b[0m in \u001b[0;36m<module>\u001b[1;34m\u001b[0m\n\u001b[1;32m----> 1\u001b[1;33m \u001b[0mmyobj\u001b[0m\u001b[1;33m.\u001b[0m\u001b[0m__X\u001b[0m\u001b[1;33m\u001b[0m\u001b[1;33m\u001b[0m\u001b[0m\n\u001b[0m",
      "\u001b[1;31mAttributeError\u001b[0m: 'C3' object has no attribute '__X'"
     ]
    }
   ],
   "source": [
    "myobj.__X"
   ]
  },
  {
   "cell_type": "markdown",
   "metadata": {},
   "source": [
    "เรียกแบบนี้ไม่ได้"
   ]
  },
  {
   "cell_type": "code",
   "execution_count": 50,
   "metadata": {},
   "outputs": [],
   "source": [
    "class Super:\n",
    "    def method(self): \n",
    "        print(\"Hello From Super\")\n",
    "    \n",
    "class Tool:\n",
    "    def __method(self):\n",
    "        print(\"Hello From Tool\")\n",
    "    def other(self):\n",
    "        self.__method()\n",
    "        \n",
    "class Sub1(Tool, Super):\n",
    "    def actions(self):\n",
    "        self.method()\n",
    "        \n",
    "class Sub2(Tool, Super):\n",
    "    def __init__(self):\n",
    "        self.method = 'gg'"
   ]
  },
  {
   "cell_type": "code",
   "execution_count": 37,
   "metadata": {},
   "outputs": [
    {
     "data": {
      "text/plain": [
       "mappingproxy({'__module__': '__main__',\n",
       "              '_Tool__method': <function __main__.Tool.__method(self)>,\n",
       "              'other': <function __main__.Tool.other(self)>,\n",
       "              '__dict__': <attribute '__dict__' of 'Tool' objects>,\n",
       "              '__weakref__': <attribute '__weakref__' of 'Tool' objects>,\n",
       "              '__doc__': None})"
      ]
     },
     "execution_count": 37,
     "metadata": {},
     "output_type": "execute_result"
    }
   ],
   "source": [
    "Tool.__dict__"
   ]
  },
  {
   "cell_type": "code",
   "execution_count": 38,
   "metadata": {},
   "outputs": [
    {
     "data": {
      "text/plain": [
       "mappingproxy({'__module__': '__main__',\n",
       "              'actions': <function __main__.Sub1.actions(self)>,\n",
       "              '__doc__': None})"
      ]
     },
     "execution_count": 38,
     "metadata": {},
     "output_type": "execute_result"
    }
   ],
   "source": [
    "Sub1.__dict__"
   ]
  },
  {
   "cell_type": "markdown",
   "metadata": {},
   "source": [
    "method ของ Tool กับ Super จะแยกกัน"
   ]
  },
  {
   "cell_type": "code",
   "execution_count": 43,
   "metadata": {},
   "outputs": [
    {
     "name": "stdout",
     "output_type": "stream",
     "text": [
      "Hello From Super\n"
     ]
    }
   ],
   "source": [
    "s = Sub1()\n",
    "s.method()"
   ]
  },
  {
   "cell_type": "code",
   "execution_count": 44,
   "metadata": {},
   "outputs": [
    {
     "name": "stdout",
     "output_type": "stream",
     "text": [
      "Hello From Tool\n"
     ]
    }
   ],
   "source": [
    "s._Tool__method()"
   ]
  },
  {
   "cell_type": "code",
   "execution_count": 51,
   "metadata": {},
   "outputs": [
    {
     "data": {
      "text/plain": [
       "{'method': 'gg'}"
      ]
     },
     "execution_count": 51,
     "metadata": {},
     "output_type": "execute_result"
    }
   ],
   "source": [
    "s2 = Sub2()\n",
    "\n",
    "s2.__dict__"
   ]
  },
  {
   "cell_type": "code",
   "execution_count": 52,
   "metadata": {},
   "outputs": [
    {
     "ename": "TypeError",
     "evalue": "'str' object is not callable",
     "output_type": "error",
     "traceback": [
      "\u001b[1;31m---------------------------------------------------------------------------\u001b[0m",
      "\u001b[1;31mTypeError\u001b[0m                                 Traceback (most recent call last)",
      "\u001b[1;32m<ipython-input-52-ed25d02bad6d>\u001b[0m in \u001b[0;36m<module>\u001b[1;34m\u001b[0m\n\u001b[1;32m----> 1\u001b[1;33m \u001b[0ms2\u001b[0m\u001b[1;33m.\u001b[0m\u001b[0mmethod\u001b[0m\u001b[1;33m(\u001b[0m\u001b[1;33m)\u001b[0m\u001b[1;33m\u001b[0m\u001b[1;33m\u001b[0m\u001b[0m\n\u001b[0m",
      "\u001b[1;31mTypeError\u001b[0m: 'str' object is not callable"
     ]
    }
   ],
   "source": [
    "s2.method()"
   ]
  },
  {
   "cell_type": "markdown",
   "metadata": {},
   "source": [
    "โดนเขียนทับไปจ้า"
   ]
  },
  {
   "cell_type": "code",
   "execution_count": 57,
   "metadata": {},
   "outputs": [],
   "source": [
    "class Selfless:\n",
    "    def __init__(self, data):\n",
    "        self.data = data\n",
    "    def selfless(arg1, arg2): # no self\n",
    "        return arg1 + arg2\n",
    "    def normal(self, arg1, arg2):\n",
    "        return self.data + arg1 + arg2"
   ]
  },
  {
   "cell_type": "code",
   "execution_count": 58,
   "metadata": {},
   "outputs": [
    {
     "data": {
      "text/plain": [
       "9"
      ]
     },
     "execution_count": 58,
     "metadata": {},
     "output_type": "execute_result"
    }
   ],
   "source": [
    "x = Selfless(2)\n",
    "x.normal(3,4)"
   ]
  },
  {
   "cell_type": "code",
   "execution_count": 61,
   "metadata": {},
   "outputs": [
    {
     "data": {
      "text/plain": [
       "7"
      ]
     },
     "execution_count": 61,
     "metadata": {},
     "output_type": "execute_result"
    }
   ],
   "source": [
    "Selfless.selfless(3,4) # ไม่ต้องใส่ object"
   ]
  },
  {
   "cell_type": "markdown",
   "metadata": {},
   "source": [
    "Unbound methods ==> functions ==> Static methods"
   ]
  },
  {
   "cell_type": "markdown",
   "metadata": {},
   "source": [
    "# Callable and not callable"
   ]
  },
  {
   "cell_type": "code",
   "execution_count": 64,
   "metadata": {},
   "outputs": [],
   "source": [
    "class Number:\n",
    "    def __init__(self, base):\n",
    "        self.base = base\n",
    "    def double(self):\n",
    "        return self.base * 2\n",
    "    def triple(self):\n",
    "        return self.base * 3\n",
    "    \n",
    "x = Number(2)\n",
    "y = Number(3)\n",
    "z = Number(4)"
   ]
  },
  {
   "cell_type": "code",
   "execution_count": 65,
   "metadata": {},
   "outputs": [],
   "source": [
    "acts = [x.double, y.double, z.double]"
   ]
  },
  {
   "cell_type": "markdown",
   "metadata": {},
   "source": [
    "สั่งใช้ method ดื้อๆเลย"
   ]
  },
  {
   "cell_type": "code",
   "execution_count": 66,
   "metadata": {},
   "outputs": [
    {
     "name": "stdout",
     "output_type": "stream",
     "text": [
      "4\n",
      "6\n",
      "8\n"
     ]
    }
   ],
   "source": [
    "for act in acts:\n",
    "    print (act())"
   ]
  },
  {
   "cell_type": "code",
   "execution_count": 67,
   "metadata": {},
   "outputs": [
    {
     "data": {
      "text/plain": [
       "12"
      ]
     },
     "execution_count": 67,
     "metadata": {},
     "output_type": "execute_result"
    }
   ],
   "source": [
    "executor = z.triple\n",
    "executor()"
   ]
  },
  {
   "cell_type": "code",
   "execution_count": 69,
   "metadata": {},
   "outputs": [
    {
     "data": {
      "text/plain": [
       "method"
      ]
     },
     "execution_count": 69,
     "metadata": {},
     "output_type": "execute_result"
    }
   ],
   "source": [
    "type(executor)"
   ]
  },
  {
   "cell_type": "markdown",
   "metadata": {},
   "source": [
    "คิดซะว่ามันคือตัวแปรชนิด method"
   ]
  },
  {
   "cell_type": "code",
   "execution_count": 74,
   "metadata": {},
   "outputs": [],
   "source": [
    "def square(arg):\n",
    "    return arg ** 2\n",
    "\n",
    "class Sum:\n",
    "    def __init__(self, val):\n",
    "        self.val = val\n",
    "    def __call__(self, arg): # เรียกชื่อ class = เรียก __call__\n",
    "        return self.val + arg\n",
    "    \n",
    "class Product:\n",
    "    def __init__(self, val):\n",
    "        self.val = val\n",
    "    def method(self, arg):\n",
    "        return self.val * arg\n",
    "    \n",
    "class Negate:\n",
    "    def __init__(self, val):\n",
    "        self.val = -val\n",
    "    def __repr__(self):\n",
    "        return str(self.val)"
   ]
  },
  {
   "cell_type": "code",
   "execution_count": 75,
   "metadata": {},
   "outputs": [
    {
     "name": "stdout",
     "output_type": "stream",
     "text": [
      "25\n",
      "7\n",
      "15\n",
      "-5\n"
     ]
    }
   ],
   "source": [
    "sobj = Sum(2)\n",
    "pobj = Product(3)\n",
    "actions = [square, sobj, pobj.method, Negate]\n",
    "\n",
    "for act in actions:\n",
    "    print(act(5))"
   ]
  },
  {
   "cell_type": "markdown",
   "metadata": {},
   "source": [
    "ลูป function สบายๆ"
   ]
  },
  {
   "cell_type": "code",
   "execution_count": 76,
   "metadata": {},
   "outputs": [
    {
     "name": "stdout",
     "output_type": "stream",
     "text": [
      "-5\n"
     ]
    }
   ],
   "source": [
    "print(Negate(5))"
   ]
  },
  {
   "cell_type": "markdown",
   "metadata": {},
   "source": [
    "# Generic Object Factories\n",
    "Object Instantiation"
   ]
  },
  {
   "cell_type": "code",
   "execution_count": 79,
   "metadata": {},
   "outputs": [],
   "source": [
    "# function ไว้สร้าง class\n",
    "def factory(aClass, *pargs, **kargs):\n",
    "    return aClass(*pargs, **kargs)\n",
    "\n",
    "class Spam:\n",
    "    def doit(self, message):\n",
    "        print(message)\n",
    "        \n",
    "class Person:\n",
    "    def __init__(self, name, job=None):\n",
    "        self.name = name\n",
    "        self.job = job"
   ]
  },
  {
   "cell_type": "code",
   "execution_count": 84,
   "metadata": {},
   "outputs": [],
   "source": [
    "obj1 = factory(Spam)\n",
    "obj2 = factory(Person, 'Author', 'King')\n",
    "obj3 = factory(Person, name='Brian')"
   ]
  },
  {
   "cell_type": "code",
   "execution_count": 81,
   "metadata": {},
   "outputs": [
    {
     "name": "stdout",
     "output_type": "stream",
     "text": [
      "DO IT\n"
     ]
    }
   ],
   "source": [
    "obj1.doit('DO IT')"
   ]
  },
  {
   "cell_type": "markdown",
   "metadata": {},
   "source": [
    "obj2.name;obj2.job"
   ]
  },
  {
   "cell_type": "code",
   "execution_count": 90,
   "metadata": {},
   "outputs": [
    {
     "data": {
      "text/plain": [
       "'Brian'"
      ]
     },
     "execution_count": 90,
     "metadata": {},
     "output_type": "execute_result"
    }
   ],
   "source": [
    "obj3.name"
   ]
  },
  {
   "cell_type": "markdown",
   "metadata": {},
   "source": [
    "ได้ class มาจากการผ่าน factory เฉยยยย"
   ]
  },
  {
   "cell_type": "code",
   "execution_count": 92,
   "metadata": {},
   "outputs": [],
   "source": [
    "class FileFactory:\n",
    "    def createFileReader(file):\n",
    "        if type(file) == 'text':\n",
    "            return TextReader(file)\n",
    "        else:\n",
    "            return BinaryReader(file)\n",
    "    \n",
    "class TextReader:\n",
    "    def __init__(self, file): pass\n",
    "    def read(self): pass\n",
    "    \n",
    "class BinaryReader:\n",
    "    def __init__(self, file): pass\n",
    "    def read(self): pass\n",
    "    \n",
    "imageFile = \"....\"\n",
    "\n",
    "reader = FileFactory.createFileReader(imageFile)\n",
    "\n",
    "reader.read()"
   ]
  },
  {
   "cell_type": "markdown",
   "metadata": {},
   "source": [
    "factory เพิ่มความง่ายในการเขียน และการปรับปรุงเพิ่ม (อยากเพิ่มก็เพิ่ม class เพิ่ม if ไป)"
   ]
  },
  {
   "cell_type": "code",
   "execution_count": 95,
   "metadata": {},
   "outputs": [
    {
     "data": {
      "text/plain": [
       "__main__.BinaryReader"
      ]
     },
     "execution_count": 95,
     "metadata": {},
     "output_type": "execute_result"
    }
   ],
   "source": [
    "type(reader)"
   ]
  },
  {
   "cell_type": "markdown",
   "metadata": {},
   "source": [
    "# Mix-in Class\n",
    "- Multiple Inheritance -> มี Super หลายตัวหน่ะแหละ"
   ]
  },
  {
   "cell_type": "code",
   "execution_count": null,
   "metadata": {},
   "outputs": [],
   "source": []
  }
 ],
 "metadata": {
  "kernelspec": {
   "display_name": "Python 3",
   "language": "python",
   "name": "python3"
  },
  "language_info": {
   "codemirror_mode": {
    "name": "ipython",
    "version": 3
   },
   "file_extension": ".py",
   "mimetype": "text/x-python",
   "name": "python",
   "nbconvert_exporter": "python",
   "pygments_lexer": "ipython3",
   "version": "3.7.3"
  }
 },
 "nbformat": 4,
 "nbformat_minor": 4
}
