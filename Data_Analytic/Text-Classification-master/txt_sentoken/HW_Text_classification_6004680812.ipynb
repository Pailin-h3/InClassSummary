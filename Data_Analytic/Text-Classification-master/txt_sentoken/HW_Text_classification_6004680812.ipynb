{
 "cells": [
  {
   "cell_type": "code",
   "execution_count": 37,
   "metadata": {},
   "outputs": [],
   "source": [
    "import sklearn\n",
    "from sklearn import datasets  \n",
    "from pprint import pprint\n",
    "from sklearn.feature_extraction.text import CountVectorizer\n",
    "from sklearn.feature_extraction.text import TfidfTransformer\n",
    "from sklearn.naive_bayes import MultinomialNB\n",
    "from sklearn.metrics import classification_report\n",
    "test = sklearn.datasets.load_files(\"C:/Users/Lenovo Demo/Desktop/Data_Analytic/Text-Classification-master/txt_sentoken/Testing_data\", description=None, categories=None, load_content=True, shuffle=True, encoding='utf-8', decode_error='ignore', random_state=0)\n",
    "train = sklearn.datasets.load_files(\"C:/Users/Lenovo Demo/Desktop/Data_Analytic/Text-Classification-master/txt_sentoken/Training_data\", description=None, categories=None, load_content=True, shuffle=True, encoding='utf-8', decode_error='ignore', random_state=0)"
   ]
  },
  {
   "cell_type": "code",
   "execution_count": 44,
   "metadata": {},
   "outputs": [
    {
     "data": {
      "text/plain": [
       "['neg', 'pos']"
      ]
     },
     "execution_count": 44,
     "metadata": {},
     "output_type": "execute_result"
    }
   ],
   "source": [
    "train.target_names"
   ]
  },
  {
   "cell_type": "code",
   "execution_count": 33,
   "metadata": {},
   "outputs": [
    {
     "data": {
      "text/plain": [
       "Pipeline(memory=None,\n",
       "         steps=[('vect',\n",
       "                 CountVectorizer(analyzer='word', binary=False,\n",
       "                                 decode_error='strict',\n",
       "                                 dtype=<class 'numpy.int64'>, encoding='utf-8',\n",
       "                                 input='content', lowercase=True, max_df=1.0,\n",
       "                                 max_features=None, min_df=1,\n",
       "                                 ngram_range=(1, 1), preprocessor=None,\n",
       "                                 stop_words=None, strip_accents=None,\n",
       "                                 token_pattern='(?u)\\\\b\\\\w\\\\w+\\\\b',\n",
       "                                 tokenizer=None, vocabulary=None)),\n",
       "                ('tfidf',\n",
       "                 TfidfTransformer(norm='l2', smooth_idf=True,\n",
       "                                  sublinear_tf=False, use_idf=True)),\n",
       "                ('clf',\n",
       "                 MultinomialNB(alpha=1.0, class_prior=None, fit_prior=True))],\n",
       "         verbose=False)"
      ]
     },
     "execution_count": 33,
     "metadata": {},
     "output_type": "execute_result"
    }
   ],
   "source": [
    "text_clf = Pipeline([\n",
    "    ('vect', CountVectorizer()),\n",
    "    ('tfidf', TfidfTransformer()),\n",
    "    ('clf', MultinomialNB()),\n",
    "])\n",
    "\n",
    "text_clf.fit(train.data, train.target)"
   ]
  },
  {
   "cell_type": "code",
   "execution_count": 34,
   "metadata": {},
   "outputs": [
    {
     "name": "stdout",
     "output_type": "stream",
     "text": [
      "We got an accuracy of 96.6875 % over the train data.\n"
     ]
    }
   ],
   "source": [
    "predicted_train = text_clf.predict(train.data)\n",
    "\n",
    "print('We got an accuracy of',np.mean(predicted_train == train.target)*100, '% over the train data.')"
   ]
  },
  {
   "cell_type": "code",
   "execution_count": 38,
   "metadata": {},
   "outputs": [
    {
     "name": "stdout",
     "output_type": "stream",
     "text": [
      "Classification report for testing data :-\n",
      "              precision    recall  f1-score   support\n",
      "\n",
      "           0       0.95      0.99      0.97       800\n",
      "           1       0.99      0.94      0.97       800\n",
      "\n",
      "    accuracy                           0.97      1600\n",
      "   macro avg       0.97      0.97      0.97      1600\n",
      "weighted avg       0.97      0.97      0.97      1600\n",
      "\n"
     ]
    }
   ],
   "source": [
    "print(\"Classification report for testing data :-\")\n",
    "print(classification_report(train.target,predicted_train ))"
   ]
  },
  {
   "cell_type": "markdown",
   "metadata": {},
   "source": [
    "precision_0 = 0.95 ถ้าเลื่อกข้อความให้เป็น neg จะมีโอกาสถูก 95%\n",
    "precision_1 = 0.99 ถ้าเลื่อกข้อความให้เป็น pos จะมีโอกาสถูก 99%\n",
    "\n",
    "recall_0 = 0.99 จับข้อความที่เป็น neg ได้ 99% (มีโอกาสที่ neg จะหลุดไปเป็น pos อยู่ 1%)\n",
    "recall_1 = 0.94 จับข้อความที่เป็น pos ได้ 94% (มีโอกาสที่ pos จะหลุดไปเป็น neg อยู่ 4%)\n",
    "\n",
    "F1-score = 0.97 เฉลี่ยความถูกต้อง precision และ recall ที่อัตราส่วนเท่ากันได้ 97%\n",
    "\n",
    "accuracy = 0.97 การแยกข้อความมีโอกาสถูก 97%"
   ]
  },
  {
   "cell_type": "code",
   "execution_count": 36,
   "metadata": {},
   "outputs": [
    {
     "name": "stdout",
     "output_type": "stream",
     "text": [
      "We got an accuracy of 80.5 % over the test data.\n"
     ]
    }
   ],
   "source": [
    "predicted_test = text_clf.predict(test.data)\n",
    "\n",
    "print('We got an accuracy of',np.mean(predicted_test == test.target)*100, '% over the test data.')"
   ]
  },
  {
   "cell_type": "code",
   "execution_count": 39,
   "metadata": {},
   "outputs": [
    {
     "name": "stdout",
     "output_type": "stream",
     "text": [
      "Classification report for testing data :-\n",
      "              precision    recall  f1-score   support\n",
      "\n",
      "           0       0.76      0.89      0.82       200\n",
      "           1       0.87      0.72      0.79       200\n",
      "\n",
      "    accuracy                           0.81       400\n",
      "   macro avg       0.81      0.80      0.80       400\n",
      "weighted avg       0.81      0.81      0.80       400\n",
      "\n"
     ]
    }
   ],
   "source": [
    "print(\"Classification report for testing data :-\")\n",
    "print(classification_report(test.target,predicted_test ))"
   ]
  },
  {
   "cell_type": "markdown",
   "metadata": {},
   "source": [
    "precision_0 = 0.76 ถ้าเลื่อกข้อความให้เป็น neg จะมีโอกาสถูก 76%\n",
    "precision_1 = 0.87 ถ้าเลื่อกข้อความให้เป็น pos จะมีโอกาสถูก 87%\n",
    "\n",
    "recall_0 = 0.89 จับข้อความที่เป็น neg ได้ 89% (มีโอกาสที่ neg จะหลุดไปเป็น pos อยู่ 11%)\n",
    "recall_1 = 0.72 จับข้อความที่เป็น pos ได้ 72% (มีโอกาสที่ pos จะหลุดไปเป็น neg อยู่ 28%)\n",
    "\n",
    "F1-score_0 = 0.97 เฉลี่ยความถูกต้อง precision_0 และ recall_0 ที่อัตราส่วนเท่ากันได้ 82%\n",
    "F1-score_1 = 0.97 เฉลี่ยความถูกต้อง precision_1 และ recall_1 ที่อัตราส่วนเท่ากันได้ 82%\n",
    "\n",
    "accuracy = 0.81 การแยกข้อความมีโอกาสถูก 81%"
   ]
  }
 ],
 "metadata": {
  "kernelspec": {
   "display_name": "Python 3",
   "language": "python",
   "name": "python3"
  },
  "language_info": {
   "codemirror_mode": {
    "name": "ipython",
    "version": 3
   },
   "file_extension": ".py",
   "mimetype": "text/x-python",
   "name": "python",
   "nbconvert_exporter": "python",
   "pygments_lexer": "ipython3",
   "version": "3.7.3"
  }
 },
 "nbformat": 4,
 "nbformat_minor": 2
}
