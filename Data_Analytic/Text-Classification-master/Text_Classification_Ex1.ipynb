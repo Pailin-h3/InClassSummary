{
 "cells": [
  {
   "cell_type": "code",
   "execution_count": 14,
   "metadata": {},
   "outputs": [
    {
     "data": {
      "text/plain": [
       "[[('I', 0.09),\n",
       "  ('always', 0.07),\n",
       "  ('like', 0.29),\n",
       "  ('foreign', 0.04),\n",
       "  ('flims', 0.08)],\n",
       " [('I', 0.16),\n",
       "  ('always', 0.06),\n",
       "  ('like', 0.06),\n",
       "  ('foreign', 0.15),\n",
       "  ('flims', 0.11)]]"
      ]
     },
     "execution_count": 14,
     "metadata": {},
     "output_type": "execute_result"
    }
   ],
   "source": [
    "C = [[\n",
    "      ('I',0.09),\n",
    "      ('always',0.07),\n",
    "      ('like',0.29),\n",
    "      ('foreign',0.04),\n",
    "      ('flims',0.08)\n",
    "    ],\n",
    "    [\n",
    "      ('I',0.16),\n",
    "      ('always',0.06),\n",
    "      ('like',0.06),\n",
    "      ('foreign',0.15),\n",
    "      ('flims',0.11)\n",
    "     ]\n",
    "    ]\n",
    "class_name = ['pos','neg']\n",
    "C"
   ]
  },
  {
   "cell_type": "code",
   "execution_count": 2,
   "metadata": {},
   "outputs": [
    {
     "data": {
      "text/plain": [
       "['I', 'always', 'like', 'foreign', 'flims']"
      ]
     },
     "execution_count": 2,
     "metadata": {},
     "output_type": "execute_result"
    }
   ],
   "source": [
    "A = 'I always like foreign flims'\n",
    "A = A.split()\n",
    "A"
   ]
  },
  {
   "cell_type": "code",
   "execution_count": 42,
   "metadata": {},
   "outputs": [
    {
     "data": {
      "text/plain": [
       "[('I', 1), ('always', 1), ('like', 1), ('foreign', 1), ('flims', 1)]"
      ]
     },
     "execution_count": 42,
     "metadata": {},
     "output_type": "execute_result"
    }
   ],
   "source": [
    "count = []\n",
    "for x in A:\n",
    "    count.append((x,A.count(x)))\n",
    "count"
   ]
  },
  {
   "cell_type": "code",
   "execution_count": 49,
   "metadata": {
    "scrolled": true
   },
   "outputs": [
    {
     "name": "stdout",
     "output_type": "stream",
     "text": [
      "pos = 0.0000058464\n",
      "neg = 0.0000095040\n",
      "this document is negative class\n"
     ]
    }
   ],
   "source": [
    "rou = 0\n",
    "pos = 1\n",
    "neg = 1\n",
    "for c in C:\n",
    "    for a in count:\n",
    "        for w in c:\n",
    "            if(a[0]==w[0] and rou == 0):\n",
    "                pos *= a[1]*w[1]\n",
    "            if(a[0]==w[0] and rou == 1):\n",
    "                neg *= a[1]*w[1]\n",
    "                \n",
    "    rou+=1\n",
    "print('pos = {:.10f}'.format(pos))\n",
    "print('neg = {:.10f}'.format(neg))\n",
    "if(pos>neg):\n",
    "    print('this document is positive class')\n",
    "else: print('this document is negative class')"
   ]
  },
  {
   "cell_type": "code",
   "execution_count": null,
   "metadata": {},
   "outputs": [],
   "source": [
    "document = [\n",
    "    ('fun','couple','love','love'),\n",
    "    ('fast','furious','shoot'),\n",
    "    ('couple','fly','fast','fun','fun'),\n",
    "    ('furious','shoot','shoot','fun'),\n",
    "    ('fly','fast','shoot','love')\n",
    "]\n",
    "target = ['comedy','action','comedy','action','action']\n",
    "\n",
    "def fit_txtclass(doc,t):\n",
    "    "
   ]
  }
 ],
 "metadata": {
  "kernelspec": {
   "display_name": "Python 3",
   "language": "python",
   "name": "python3"
  },
  "language_info": {
   "codemirror_mode": {
    "name": "ipython",
    "version": 3
   },
   "file_extension": ".py",
   "mimetype": "text/x-python",
   "name": "python",
   "nbconvert_exporter": "python",
   "pygments_lexer": "ipython3",
   "version": "3.7.3"
  }
 },
 "nbformat": 4,
 "nbformat_minor": 2
}
