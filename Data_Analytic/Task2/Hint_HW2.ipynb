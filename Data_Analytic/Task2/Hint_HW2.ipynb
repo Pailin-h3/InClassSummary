{
 "cells": [
  {
   "cell_type": "code",
   "execution_count": 1,
   "metadata": {},
   "outputs": [],
   "source": [
    "import pandas as pd\n",
    "import numpy as np\n",
    "import matplotlib.pyplot as plt\n",
    "import requests\n",
    "import scipy as sp\n",
    "from utils import DATA_DIR, CHART_DIR\n",
    "import os\n",
    "\n",
    "data_x = np.genfromtxt(r'x.csv',delimiter=',')\n",
    "data_y = np.genfromtxt(r'y.csv',delimiter=',')\n",
    "\n",
    "header_x = ['Radius', 'Texture', 'Perimeter', 'Area', 'Smoothness', 'Compactness', 'Concavity', 'Number of concave portions of contour', 'Symmetry', 'Fractal dimension']\n",
    "header_y = [('Malignant', [1]),('Benign' ,[0])]\n",
    "label_y = [1 =='Malignant', 0 == 'Benign']"
   ]
  },
  {
   "cell_type": "code",
   "execution_count": null,
   "metadata": {},
   "outputs": [],
   "source": []
  }
 ],
 "metadata": {
  "kernelspec": {
   "display_name": "Python 3",
   "language": "python",
   "name": "python3"
  },
  "language_info": {
   "codemirror_mode": {
    "name": "ipython",
    "version": 3
   },
   "file_extension": ".py",
   "mimetype": "text/x-python",
   "name": "python",
   "nbconvert_exporter": "python",
   "pygments_lexer": "ipython3",
   "version": "3.7.3"
  }
 },
 "nbformat": 4,
 "nbformat_minor": 2
}
